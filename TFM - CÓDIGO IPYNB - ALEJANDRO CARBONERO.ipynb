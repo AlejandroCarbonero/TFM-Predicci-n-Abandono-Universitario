{
 "cells": [
  {
   "cell_type": "markdown",
   "id": "98bf8f1f-bd5c-4a27-99ef-1d06143c28b0",
   "metadata": {},
   "source": [
    "# IMPORTACIONES"
   ]
  },
  {
   "cell_type": "code",
   "execution_count": null,
   "id": "c6533d0e-109a-4ab9-bfc1-795e663fdbe3",
   "metadata": {},
   "outputs": [],
   "source": [
    "import pandas as pd\n",
    "import numpy as np\n",
    "import matplotlib.pyplot as plt\n",
    "import seaborn as sns\n",
    "import plotly.express as px\n",
    "from sklearn.model_selection import train_test_split\n",
    "from sklearn.preprocessing import OneHotEncoder, OrdinalEncoder\n",
    "from sklearn.compose import ColumnTransformer\n",
    "from sklearn.pipeline import Pipeline\n",
    "from sklearn.linear_model import LogisticRegression\n",
    "from sklearn.ensemble import RandomForestClassifier\n",
    "from xgboost import XGBClassifier\n",
    "from sklearn.metrics import classification_report, roc_auc_score\n",
    "from sklearn.model_selection import train_test_split, cross_val_score, GridSearchCV, StratifiedKFold\n",
    "from sklearn.linear_model import LogisticRegression\n",
    "from sklearn.metrics import confusion_matrix\n",
    "from sklearn.preprocessing import LabelEncoder, OrdinalEncoder, OneHotEncoder\n",
    "from sklearn.ensemble import RandomForestClassifier, GradientBoostingClassifier\n",
    "from sklearn.neighbors import KNeighborsClassifier\n",
    "import joblib"
   ]
  },
  {
   "cell_type": "code",
   "execution_count": null,
   "id": "47e8f158-6554-4f78-8986-44958f5f4876",
   "metadata": {},
   "outputs": [],
   "source": [
    "import warnings\n",
    "warnings.filterwarnings(\"ignore\")"
   ]
  },
  {
   "cell_type": "markdown",
   "id": "42514bf6-b9af-4a02-b767-4675e76576ee",
   "metadata": {},
   "source": [
    "# LECTURA DE DATOS"
   ]
  },
  {
   "cell_type": "code",
   "execution_count": null,
   "id": "2d284685-a8d2-43c1-babb-4484afb18e17",
   "metadata": {},
   "outputs": [],
   "source": [
    "df_students = pd.read_csv('Kaggle_Dataset.csv')\n",
    "df_students.head()"
   ]
  },
  {
   "cell_type": "markdown",
   "id": "09b22f2d-9d62-483c-a7f0-dc601ce959d9",
   "metadata": {},
   "source": [
    "# 1 ANÁLISIS EXPLORATORIO DE DATOS (EDA)"
   ]
  },
  {
   "cell_type": "code",
   "execution_count": null,
   "id": "f84fb41c-ff4c-4e2d-9f65-a806dbefda59",
   "metadata": {},
   "outputs": [],
   "source": [
    "df_students.info()"
   ]
  },
  {
   "cell_type": "code",
   "execution_count": null,
   "id": "f117974d-5d29-4121-875a-6593c793911f",
   "metadata": {},
   "outputs": [],
   "source": [
    "display(df_students.describe().T)"
   ]
  },
  {
   "cell_type": "code",
   "execution_count": null,
   "id": "6e65a8fc-e24a-4f58-ac65-664a19bfa923",
   "metadata": {},
   "outputs": [],
   "source": [
    "df_students.nunique()"
   ]
  },
  {
   "cell_type": "markdown",
   "id": "692edcca-73f5-442b-b317-259643e8d4f3",
   "metadata": {},
   "source": [
    "## 1.1 TRANSFORMACIÓN A CATEGÓRICAS\n",
    "Las variables categóricas vienen codificadas en numéricas. El primer paso que vamos a realizar es crear diccionarios para dar nombre a las categorias y, de esta forma, poder realizar un primer análisis preliminar que nos ayude a comprender mejor las variables y el dataset."
   ]
  },
  {
   "cell_type": "code",
   "execution_count": null,
   "id": "190655d2-368b-47f0-b291-06a6e0aae0af",
   "metadata": {},
   "outputs": [],
   "source": [
    "# Marital status\n",
    "marital_status_map = {\n",
    "    1: \"single\",\n",
    "    2: \"married\",\n",
    "    3: \"widow\",\n",
    "    4: \"divorced\",\n",
    "    5: \"facto union\",\n",
    "    6: \"legally separated\"\n",
    "}\n",
    "\n",
    "# Application mode\n",
    "application_mode_map = {\n",
    "    1: \"1st phase - general contingent\",\n",
    "    2: \"Ordinance No. 612/93\",\n",
    "    3: \"1st phase - special contingent (Azores Island)\",\n",
    "    4: \"Holders of other higher courses\",\n",
    "    5: \"Ordinance No. 854-B/99\",\n",
    "    6: \"International student (bachelor)\",\n",
    "    7: \"1st phase - special contingent (Madeira Island)\",\n",
    "    8: \"2nd phase - general contingent\",\n",
    "    9: \"3rd phase - general contingent\",\n",
    "    10: \"Ordinance No. 533-A/99, item b2) (Different Plan)\",\n",
    "    11: \"Ordinance No. 533-A/99, item b3 (Other Institution)\",\n",
    "    12: \"Over 23 years old\",\n",
    "    13: \"Transfer\",\n",
    "    14: \"Change of course\",\n",
    "    15: \"Technological specialization diploma holders\",\n",
    "    16: \"Change of institution/course\",\n",
    "    17: \"Short cycle diploma holders\",\n",
    "    18: \"Change of institution/course (International)\"\n",
    "}\n",
    "\n",
    "# Application order\n",
    "application_order_map = {i: f\"choice {i}\" for i in range(0, 22)}\n",
    "\n",
    "# Course\n",
    "course_map = {\n",
    "    1: \"Biofuel Production Technologies\",\n",
    "    2: \"Animation and Multimedia Design\",\n",
    "    3: \"Social Service (evening attendance)\",\n",
    "    4: \"Agronomy\",\n",
    "    5: \"Communication Design\",\n",
    "    6: \"Veterinary Nursing\",\n",
    "    7: \"Informatics Engineering\",\n",
    "    8: \"Equiniculture\",\n",
    "    9: \"Management\",\n",
    "    10: \"Social Service\",\n",
    "    11: \"Tourism\",\n",
    "    12: \"Nursing\",\n",
    "    13: \"Oral Hygiene\",\n",
    "    14: \"Advertising and Marketing Management\",\n",
    "    15: \"Journalism and Communication\",\n",
    "    16: \"Basic Education\",\n",
    "    17: \"Management (evening attendance)\"\n",
    "}\n",
    "\n",
    "\n",
    "# Daytime/evening attendance\n",
    "daytime_map = {\n",
    "    1: \"daytime\",\n",
    "    0: \"evening\"\n",
    "}\n",
    "\n",
    "# Previous qualification\n",
    "previous_qualification_map = {\n",
    "    1: \"Secondary education\",\n",
    "    2: \"Higher education - bachelor's degree\",\n",
    "    3: \"Higher education - degree\",\n",
    "    4: \"Higher education - master's\",\n",
    "    5: \"Higher education - doctorate\",\n",
    "    6: \"Frequency of higher education\",\n",
    "    7: \"12th year of schooling - not completed\",\n",
    "    8: \"11th year of schooling - not completed\",\n",
    "    9: \"Other - 11th year of schooling\",\n",
    "    10: \"10th year of schooling\",\n",
    "    11: \"10th year of schooling - not completed\",\n",
    "    12: \"Basic education 3rd cycle (9th/10th/11th year) or equiv.\",\n",
    "    13: \"Basic education 2nd cycle (6th/7th/8th year) or equiv.\",\n",
    "    14: \"Technological specialization course\",\n",
    "    15: \"Higher education - degree (1st cycle)\",\n",
    "    16: \"Professional higher technical course\",\n",
    "    17: \"Higher education - master (2nd cycle)\"\n",
    "}\n",
    "\n",
    "\n",
    "# Nacionality\n",
    "nacionality_map = {\n",
    "    1: 'Portuguese',\n",
    "    2: 'German',\n",
    "    3: 'Spanish',\n",
    "    4: 'Italian',\n",
    "    5: 'Dutch',\n",
    "    6: 'English',\n",
    "    7: 'Lithuanian',\n",
    "    8: 'Angolan',\n",
    "    9: 'Cape Verdean',\n",
    "    10: 'Guinean',\n",
    "    11: 'Mozambican',\n",
    "    12: 'Santomean',\n",
    "    13: 'Turkish',\n",
    "    14: 'Brazilian',\n",
    "    15: 'Romanian',\n",
    "    16: 'Moldova',\n",
    "    17: 'Mexican',\n",
    "    18: 'Ukrainian',\n",
    "    19: 'Russian',\n",
    "    20: 'Cuban',\n",
    "    21: 'Colombian'\n",
    "}\n",
    "\n",
    "# Qualifications parents\n",
    "mother_qualification_map = {\n",
    "    1: \"Secondary Education - 12th Year of Schooling or Eq.\",\n",
    "    2: \"Higher Education - Bachelor's Degree\",\n",
    "    3: \"Higher Education - Degree\",\n",
    "    4: \"Higher Education - Master's\",\n",
    "    5: \"Higher Education - Doctorate\",\n",
    "    6: \"Frequency of Higher Education\",\n",
    "    7: \"12th Year of Schooling - Not Completed\",\n",
    "    8: \"11th Year of Schooling - Not Completed\",\n",
    "    9: \"7th Year (Old)\",\n",
    "    10: \"Other - 11th Year of Schooling\",\n",
    "    11: \"10th Year of Schooling\",\n",
    "    12: \"General commerce course\",\n",
    "    13: \"Basic Education 3rd Cycle (9th/10th/11th Year) or Equiv.\",\n",
    "    14: \"Technical-professional course\",\n",
    "    15: \"7th year of schooling\",\n",
    "    16: \"2nd cycle of the general high school course\",\n",
    "    17: \"9th Year of Schooling - Not Completed\",\n",
    "    18: \"8th year of schooling\",\n",
    "    19: \"Unknown\",\n",
    "    20: \"Can't read or write\",\n",
    "    21: \"Can read without having a 4th year of schooling\",\n",
    "    22: \"Basic education 1st cycle (4th/5th year) or equiv.\",\n",
    "    23: \"Basic Education 2nd Cycle (6th/7th/8th Year) or Equiv.\",\n",
    "    24: \"Technological specialization course\",\n",
    "    25: \"Higher education - degree (1st cycle)\",\n",
    "    26: \"Specialized higher studies course\",\n",
    "    27: \"Professional higher technical course\",\n",
    "    28: \"Higher Education - Master (2nd cycle)\",\n",
    "    29: \"Higher Education - Doctorate (3rd cycle)\"\n",
    "}\n",
    "\n",
    "father_qualification_map = {\n",
    "    1: \"Secondary Education - 12th Year of Schooling or Equiv.\",\n",
    "    2: \"Higher Education - Bachelor's Degree\",\n",
    "    3: \"Higher Education - Degree\",\n",
    "    4: \"Higher Education - Master's\",\n",
    "    5: \"Higher Education - Doctorate\",\n",
    "    6: \"Frequency of Higher Education\",\n",
    "    7: \"12th Year of Schooling - Not Completed\",\n",
    "    8: \"11th Year of Schooling - Not Completed\",\n",
    "    9: \"7th Year (Old)\",\n",
    "    10: \"Other - 11th Year of Schooling\",\n",
    "    11: \"2nd year complementary high school course\",\n",
    "    12: \"10th Year of Schooling\",\n",
    "    13: \"General commerce course\",\n",
    "    14: \"Basic Education 3rd Cycle (9th/10th/11th Year) or Equiv.\",\n",
    "    15: \"Complementary High School Course\",\n",
    "    16: \"Technical-professional course\",\n",
    "    17: \"Complementary High School Course - not concluded\",\n",
    "    18: \"7th year of schooling\",\n",
    "    19: \"2nd cycle of the general high school course\",\n",
    "    20: \"9th Year of Schooling - Not Completed\",\n",
    "    21: \"8th year of schooling\",\n",
    "    22: \"General Course of Administration and Commerce\",\n",
    "    23: \"Supplementary Accounting and Administration\",\n",
    "    24: \"Unknown\",\n",
    "    25: \"Can't read or write\",\n",
    "    26: \"Can read without having a 4th year of schooling\",\n",
    "    27: \"Basic education 1st cycle (4th/5th year) or Equiv.\",\n",
    "    28: \"Basic Education 2nd Cycle (6th/7th/8th Year) or Equiv.\",\n",
    "    29: \"Technological specialization course\",\n",
    "    30: \"Higher education - degree (1st cycle)\",\n",
    "    31: \"Specialized higher studies course\",\n",
    "    32: \"Professional higher technical course\",\n",
    "    33: \"Higher Education - Master (2nd cycle)\",\n",
    "    34: \"Higher Education - Doctorate (3rd cycle)\"\n",
    "}\n",
    "\n",
    "\n",
    "# Occupations parents \n",
    "mother_occupation_map = {\n",
    "    1: \"Student\",\n",
    "    2: \"Representatives of the Legislative Power and Executive Bodies, Directors, Directors and Executive Managers\",\n",
    "    3: \"Specialists in Intellectual and Scientific Activities\",\n",
    "    4: \"Intermediate Level Technicians and Professions\",\n",
    "    5: \"Administrative staff\",\n",
    "    6: \"Personal Services, Security and Safety Workers and Sellers\",\n",
    "    7: \"Farmers and Skilled Workers in Agriculture, Fisheries and Forestry\",\n",
    "    8: \"Skilled Workers in Industry, Construction and Craftsmen\",\n",
    "    9: \"Installation and Machine Operators and Assembly Workers\",\n",
    "    10: \"Unskilled Workers\",\n",
    "    11: \"Armed Forces Professions\",\n",
    "    12: \"Other Situation\",\n",
    "    13: \"(blank)\",\n",
    "    14: \"Health professionals\",\n",
    "    15: \"teachers\",\n",
    "    16: \"Specialists in information and communication technologies (ICT)\",\n",
    "    17: \"Intermediate level science and engineering technicians and professions\",\n",
    "    18: \"Technicians and professionals, of intermediate level of health\",\n",
    "    19: \"Intermediate level technicians from legal, social, sports, cultural and similar services\",\n",
    "    20: \"Office workers, secretaries in general and data processing operators\",\n",
    "    21: \"Data, accounting, statistical, financial services and registry-related operators\",\n",
    "    22: \"Other administrative support staff\",\n",
    "    23: \"personal service workers\",\n",
    "    24: \"sellers\",\n",
    "    25: \"Personal care workers and the like\",\n",
    "    26: \"Skilled construction workers and the like, except electricians\",\n",
    "    27: \"Skilled workers in printing, precision instrument manufacturing, jewelers, artisans and the like\",\n",
    "    28: \"Workers in food processing, woodworking, clothing and other industries and crafts\",\n",
    "    29: \"cleaning workers\",\n",
    "    30: \"Unskilled workers in agriculture, animal production, fisheries and forestry\",\n",
    "    31: \"Unskilled workers in extractive industry, construction, manufacturing and transport\",\n",
    "    32: \"Meal preparation assistants\"\n",
    "}\n",
    "\n",
    "father_occupation_map = {\n",
    "    0: \"Student\",\n",
    "    1: \"Representatives of the Legislative Power and Executive Bodies, Directors, Directors and Executive Managers\",\n",
    "    2: \"Specialists in Intellectual and Scientific Activities\",\n",
    "    3: \"Intermediate Level Technicians and Professions\",\n",
    "    4: \"Administrative staff\",\n",
    "    5: \"Personal Services, Security and Safety Workers and Sellers\",\n",
    "    6: \"Farmers and Skilled Workers in Agriculture, Fisheries and Forestry\",\n",
    "    7: \"Skilled Workers in Industry, Construction and Craftsmen\",\n",
    "    8: \"Installation and Machine Operators and Assembly Workers\",\n",
    "    9: \"Unskilled Workers\",\n",
    "    10: \"Armed Forces Professions\",\n",
    "    11: \"Armed Forces Officers\",\n",
    "    12: \"Armed Forces Sergeants\",\n",
    "    13: \"Other Armed Forces personnel\",\n",
    "    14: \"Directors of administrative and commercial services\",\n",
    "    15: \"Hotel, catering, trade and other services directors\",\n",
    "    16: \"Specialists in the physical sciences, mathematics, engineering and related techniques\",\n",
    "    17: \"Health professionals\",\n",
    "    18: \"Teachers\",\n",
    "    19: \"Specialists in finance, accounting, administrative organization, public and commercial relations\",\n",
    "    20: \"Intermediate level science and engineering technicians and professions\",\n",
    "    21: \"Technicians and professionals, of intermediate level of health\",\n",
    "    22: \"Intermediate level technicians from legal, social, sports, cultural and similar services\",\n",
    "    23: \"Information and communication technology technicians\",\n",
    "    24: \"Office workers, secretaries in general and data processing operators\",\n",
    "    25: \"Data, accounting, statistical, financial services and registry-related operators\",\n",
    "    26: \"Other administrative support staff\",\n",
    "    27: \"Personal service workers\",\n",
    "    28: \"Sellers\",\n",
    "    29: \"Personal care workers and the like\",\n",
    "    30: \"Protection and security services personnel\",\n",
    "    31: \"Market-oriented farmers and skilled agricultural and animal production workers\",\n",
    "    32: \"Farmers, livestock keepers, fishermen, hunters and gatherers, subsistence\",\n",
    "    33: \"Skilled construction workers and the like, except electricians\",\n",
    "    34: \"Skilled workers in metallurgy, metalworking and similar\",\n",
    "    35: \"Skilled workers in electricity and electronics\",\n",
    "    36: \"Workers in food processing, woodworking, clothing and other industries and crafts\",\n",
    "    37: \"Fixed plant and machine operators\",\n",
    "    38: \"Assembly workers\",\n",
    "    39: \"Vehicle drivers and mobile equipment operators\",\n",
    "    40: \"Unskilled workers in agriculture, animal production, fisheries and forestry\",\n",
    "    41: \"Unskilled workers in extractive industry, construction, manufacturing and transport\",\n",
    "    42: \"Meal preparation assistants\",\n",
    "    43: \"Street vendors (except food) and street service providers\"\n",
    "}\n",
    "\n",
    "\n",
    "# Displaced\n",
    "displaced_map = {\n",
    "    1: \"yes\",\n",
    "    0: \"no\"\n",
    "}\n",
    "\n",
    "# Educational special needs\n",
    "special_needs_map = {\n",
    "    1: \"yes\",\n",
    "    0: \"no\"\n",
    "}\n",
    "\n",
    "# Debtor\n",
    "debtor_map = {\n",
    "    1: \"yes\",\n",
    "    0: \"no\"\n",
    "}\n",
    "\n",
    "# Tuition fees up to date\n",
    "tuition_map = {\n",
    "    1: \"yes\",\n",
    "    0: \"no\"\n",
    "}\n",
    "\n",
    "# Gender\n",
    "gender_map = {\n",
    "    1: \"male\",\n",
    "    0: \"female\"\n",
    "}\n",
    "\n",
    "# Scholarship holder\n",
    "scholarship_map = {\n",
    "    1: \"yes\",\n",
    "    0: \"no\"\n",
    "}\n",
    "\n",
    "# International\n",
    "international_map = {\n",
    "    1: \"yes\",\n",
    "    0: \"no\"\n",
    "}\n",
    "\n",
    "# Target\n",
    "target_map = {\n",
    "    \"Dropout\": \"dropout\",\n",
    "    \"Enrolled\": \"still enrolled\",\n",
    "    \"Graduate\": \"graduate\"\n",
    "}\n"
   ]
  },
  {
   "cell_type": "code",
   "execution_count": null,
   "id": "93e14a97-c093-431d-a9c4-9de1fdab603b",
   "metadata": {},
   "outputs": [],
   "source": [
    "mappings = {\n",
    "    \"Marital status\": marital_status_map,\n",
    "    \"Application mode\": application_mode_map,\n",
    "    \"Application order\": application_order_map,\n",
    "    \"Course\": course_map,\n",
    "    \"Daytime/evening attendance\": daytime_map,\n",
    "    \"Previous qualification\": previous_qualification_map,\n",
    "    \"Nacionality\": nacionality_map,\n",
    "    \"Mother's qualification\": mother_qualification_map,\n",
    "    \"Father's qualification\": father_qualification_map,\n",
    "    \"Mother's occupation\": mother_occupation_map,\n",
    "    \"Father's occupation\": father_occupation_map,\n",
    "    \"Displaced\": displaced_map,\n",
    "    \"Educational special needs\": special_needs_map,\n",
    "    \"Debtor\": debtor_map,\n",
    "    \"Tuition fees up to date\": tuition_map,\n",
    "    \"Gender\": gender_map,\n",
    "    \"Scholarship holder\": scholarship_map,\n",
    "    \"International\": international_map,\n",
    "    \"Target\": target_map\n",
    "}\n",
    "\n",
    "for col, mapping in mappings.items():\n",
    "    if col in df_students.columns:\n",
    "        df_students[col] = df_students[col].map(mapping).astype(\"category\")\n"
   ]
  },
  {
   "cell_type": "code",
   "execution_count": null,
   "id": "a0ce13e4-f3ff-415e-9dda-029935088dde",
   "metadata": {},
   "outputs": [],
   "source": [
    "mas_comun = df_students[\"Father's occupation\"].mode()[0]\n",
    "\n",
    "df_students[\"Father's occupation\"].fillna(mas_comun, inplace=True)\n"
   ]
  },
  {
   "cell_type": "code",
   "execution_count": null,
   "id": "77c016ab-4f9f-4e1e-86c2-4df3e316c286",
   "metadata": {},
   "outputs": [],
   "source": [
    "df_students.info()"
   ]
  },
  {
   "cell_type": "markdown",
   "id": "1dae99bf-ee27-4f1a-95e0-7719bd3a6257",
   "metadata": {},
   "source": [
    "## 1.2 ANÁLISIS DE VARIABLES"
   ]
  },
  {
   "cell_type": "markdown",
   "id": "12b63248-b1a7-4c57-8dd5-bd38db1de72b",
   "metadata": {},
   "source": [
    "### 1.2.1 ANÁLISIS TARGET\n",
    "El target es multiclase. Vamos a realizar 1 tipo de predicción, uno binario eliminando aquellos que siguen cursando el curso, ya que estos no aportan ningún tipo de valor real actual, ni en el interes de predicirlo ni en datos útiles."
   ]
  },
  {
   "cell_type": "code",
   "execution_count": null,
   "id": "68d7b86c-3a5d-436b-90c6-f3d3e4e1e04c",
   "metadata": {},
   "outputs": [],
   "source": [
    "print(\"\\n📊 Conteo de valores de 'target':\\n\")\n",
    "print(df_students[\"Target\"].value_counts())"
   ]
  },
  {
   "cell_type": "code",
   "execution_count": null,
   "id": "2adf214e-6328-4b01-8d5e-59e4c9ca15b8",
   "metadata": {},
   "outputs": [],
   "source": [
    "fig = px.histogram(df_students, x=\"Target\") \n",
    "fig.show()"
   ]
  },
  {
   "cell_type": "markdown",
   "id": "7e4ce270-b681-4a2c-a6dc-b0ec036a6164",
   "metadata": {},
   "source": [
    "Vamos a eliminar la información procedente de \"still enrolled\" porque no tenemos información de si esa población acabará abandonando o no. Nos podemos proponer al final del proyecto tratar de ver si podemos predecir si continuan estudiando,"
   ]
  },
  {
   "cell_type": "code",
   "execution_count": null,
   "id": "eec911bf-6d72-44f0-838e-f2bddfb6889d",
   "metadata": {},
   "outputs": [],
   "source": [
    "df_students = df_students[df_students.Target != 'still enrolled']\n",
    "df_students['Target'] = df_students['Target'].cat.remove_categories('still enrolled')"
   ]
  },
  {
   "cell_type": "code",
   "execution_count": null,
   "id": "7a1eb233-67d9-4e71-95a6-f0d1ff0b0203",
   "metadata": {},
   "outputs": [],
   "source": [
    "df_students.shape"
   ]
  },
  {
   "cell_type": "code",
   "execution_count": null,
   "id": "9f4a3bdf-3799-4a75-93fa-3e06f59c3017",
   "metadata": {},
   "outputs": [],
   "source": [
    "column_name = 'Target'\n",
    "\n",
    "df_students = df_students[df_students[column_name] != 'Enrolled']\n",
    "\n",
    "plt.figure(figsize=(10, 4))\n",
    "\n",
    "plt.subplot(1, 2, 1)\n",
    "sns.countplot(y=column_name, data=df_students, palette='Set3')  \n",
    "plt.title(f'Distribución de la {column_name}')\n",
    "\n",
    "ax = plt.gca()\n",
    "for p in ax.patches:\n",
    "    ax.annotate(\n",
    "        f'{int(p.get_width())}', \n",
    "        (p.get_width(), p.get_y() + p.get_height() / 2), \n",
    "        ha='center', \n",
    "        va='center', \n",
    "        xytext=(10, 0), \n",
    "        textcoords='offset points'\n",
    "    )\n",
    "\n",
    "sns.despine(left=True, bottom=True)\n",
    "\n",
    "plt.subplot(1, 2, 2)\n",
    "counts = df_students[column_name].value_counts()\n",
    "explode = [0.05] * len(counts)  \n",
    "\n",
    "counts.plot.pie(\n",
    "    autopct='%1.1f%%', \n",
    "    colors=sns.color_palette('Set3'), \n",
    "    startangle=90, \n",
    "    explode=explode\n",
    ")\n",
    "plt.title(f'% de la distribución {column_name}')\n",
    "plt.ylabel('') \n",
    "\n",
    "plt.tight_layout()\n",
    "plt.show()"
   ]
  },
  {
   "cell_type": "markdown",
   "id": "aabf267e-3ae3-442e-83a2-4edf8e7242a6",
   "metadata": {},
   "source": [
    "Al observar la variable objetivo, se identifican 2.209 estudiantes graduados frente a 1.421 estudiantes en situación de abandono.\n",
    "\n",
    "- Esto implica que el dataset está moderadamente desbalanceado (aprox. 61% graduados vs 39% abandonos).\n",
    "- No es un desbalance extremo, pero sí relevante: un modelo trivial que predijera siempre “graduate” ya alcanzaría ~61% de accuracy.\n",
    "- Por lo tanto, métricas adicionales como recall y precisión en la clase dropout son críticas, ya que el foco principal es identificar a los estudiantes en riesgo de abandono.\n",
    "- Además, al no estar completamente equilibrado, conviene monitorizar el recall de dropout para evitar que el modelo priorice solo a la clase mayoritaria (graduados)."
   ]
  },
  {
   "cell_type": "markdown",
   "id": "e971c50b-a5d9-4a61-82be-0315fedb3e77",
   "metadata": {},
   "source": [
    "### 1.2.2 ANÁLISIS VARIABLES CATEGORICAS CON > 10 VALORES\n",
    "Primero vemos aquellas categorias que tengan mas de 10 valores únicos "
   ]
  },
  {
   "cell_type": "code",
   "execution_count": null,
   "id": "9325ebbd-75a3-4a60-b093-4e5905360e44",
   "metadata": {},
   "outputs": [],
   "source": [
    "\n",
    "categorical_cols = df_students.select_dtypes(['category']).columns\n",
    "\n",
    "def summarize_category(df, col, top=50):\n",
    "    vc = df[col].value_counts(normalize=True)\n",
    "    top_categories = vc.head(top)\n",
    "    others = vc[top:].sum()\n",
    "    summary = pd.concat([top_categories, pd.Series({'Other': others})])\n",
    "    return summary\n",
    "\n",
    "def show_top_categories(df, col, top=50):\n",
    "    summary = summarize_category(df, col, top)\n",
    "    print(f\"\\nVariable: {col} (total {df[col].nunique()} categorías)\")\n",
    "    display(pd.DataFrame(summary*100, columns=['% de registros']))\n",
    "\n",
    "def plot_top_categories(df, col, top=50):\n",
    "    summary = summarize_category(df, col, top)\n",
    "    sns.barplot(x=summary.values, y=summary.index, palette=\"viridis\")\n",
    "    plt.xlabel(\"Proporción\")\n",
    "    plt.title(f\"Distribución de '{col}' (top {top} + Other)\")\n",
    "    plt.show()\n",
    "\n",
    "for col in categorical_cols:\n",
    "    if df_students[col].nunique() > 10:\n",
    "        show_top_categories(df_students, col, top=50)\n",
    "        plot_top_categories(df_students, col, top=50)\n"
   ]
  },
  {
   "cell_type": "markdown",
   "id": "d4b218d4-7336-4e92-952f-66183561a324",
   "metadata": {},
   "source": [
    "#### Procesamiento en las categorias con mas de 10 variables\n",
    "\n",
    "##### Algunas de estas categorias tienen una distribución bastante desigual, con algunos valores minimamente representados entorpeciendo el analisis y modelaje. Para ello antes de describir insights en el EDA, vamos a hacer un pequeño preprocesamiento para obtener un análisis mas ajustado. La idea es tratar de tener todas las variable categoricas con 10 o menos valores distintos en los casos en los que sea eficiente y razonable hacerlo.\n",
    "\n",
    "1. Application mode\n",
    "- Tiene 18 variables pero el 80% de los casos están agrupados en 4 valores. Vamos reducir la cardinalidad de esta variable agrupando todos los valores por debajo del 1% de representatividad en un grupo denominado \"Others\". Probaremos los resultados de esta forma y planteamos una posible opcion b en el que los agruparemos en funcion de su tipo de aplicación.\n",
    "\n",
    "2. Course\n",
    "- En el caso de la variable Course, aunque presenta 17 categorías distintas, su distribución se encuentra relativamente balanceada: la mayoría de los programas académicos concentran entre un 3% y un 8% de los registros, con solo dos titulaciones minoritarias por debajo del 2%.\n",
    "\n",
    "Dado que cada categoría representa una carrera universitaria específica —con un significado propio y difícilmente agrupable con otras— no resulta adecuado reducir su cardinalidad de manera artificial. Eliminar o fusionar titulaciones podría llevar a la pérdida de información relevante, ya que cada programa académico puede presentar patrones particulares de rendimiento o abandono.\n",
    "\n",
    "Por ello, he decidido mantener la variable con todas sus categorías originales.\n",
    "\n",
    "3. Previous qualification\n",
    "- En este caso vemos una variable claramente desbalanceada por una única opción: \"Secondary education\", que abarca el 84% de la distribución. En este caso para tratar de no perder nada de información de momento vamos a dividirlas en 4 bloques:\n",
    "    - Secondary education (84%)\n",
    "    - Basic education (sumando 9º–11º, 2º ciclo, incompletos, etc.)\n",
    "    - Higher education (grado, máster, doctorado, frequency of HE…)\n",
    "    - Other / Specialization (tecnológicos, técnicos, cursos profesionales).\n",
    "- En caso de que no aporten suficiente información probaremos a agrupar el resto en others obteniendo tan solo 2 valores.\n",
    "\n",
    "4. Nationality\n",
    "- La variable Nacionality está fuertemente desbalanceada, con el 97,5% de los registros correspondientes a “Portuguese” y el resto de nacionalidades representando únicamente un 2,5% del total, muchas con menos del 0,1% de los casos.\n",
    "Dada su baja variabilidad y su limitada aportación al análisis y modelado, se ha decidido eliminar esta variable del dataset. Esta decisión simplifica el preprocesamiento sin comprometer la información relevante.\n",
    "\n",
    "5. Mother's qualification\n",
    "- La variable Mother's qualification presenta 29 categorías, muchas de ellas con representatividad extremadamente baja (<0,1%), mientras que las categorías principales concentran la gran mayoría de los registros. Para reducir la cardinalidad y mantener la interpretabilidad de la variable, se ha decidido agrupar las categorías en bloques educativos lógicos: Basic Education, Secondary Education, Higher Education y Unknown/Other.\n",
    "\n",
    "Esta decisión permite preservar la información relevante sobre el nivel educativo de la madre —que puede influir en el desempeño del estudiante— evitando el ruido generado por categorías residuales con escasa representación. Además, facilita la interpretación de los resultados tanto en el análisis exploratorio como en las fases de modelado.\n",
    "\n",
    "6. Father's qualification\n",
    "- La variable Father's qualification presenta 34 categorías, muchas de ellas con representatividad extremadamente baja (<0,1%), mientras que unas pocas categorías concentran la mayoría de los registros (~85–90%). Para reducir la cardinalidad y mantener la interpretabilidad de la variable, se ha decidido agrupar las categorías en bloques educativos lógicos: Basic Education, Secondary Education, Higher Education y Unknown/Other.\n",
    "\n",
    "Esta decisión permite preservar la información relevante sobre el nivel educativo del padre —que puede influir en el desempeño del estudiante— evitando el ruido generado por categorías residuales con escasa representación. Además, facilita la interpretación de los resultados tanto en el análisis exploratorio como en las fases de modelado.\n",
    "\n",
    "7. Mother's occupation\n",
    "- La variable Mother's occupation presenta 32 categorías, con una distribución altamente desigual: unas pocas categorías concentran la mayoría de los registros (≈80%), mientras que muchas otras presentan representatividad muy baja (<1%).\n",
    "\n",
    "Para reducir la cardinalidad y mantener la interpretabilidad de la variable, se ha decidido agrupar las ocupaciones en bloques amplios y coherentes, según el tipo de actividad y nivel de especialización:\n",
    "\n",
    "8. Father's occupation\n",
    "- La variable Father's occupation presenta 43 categorías, con una distribución muy desigual: unas pocas categorías concentran la mayoría de los registros (≈80%), mientras que muchas otras tienen representación extremadamente baja (<1%).\n",
    "\n",
    "Para reducir la cardinalidad y mantener la interpretabilidad de la variable, se ha decidido agrupar las ocupaciones en bloques amplios y coherentes, según el tipo de actividad y nivel de especialización:"
   ]
  },
  {
   "cell_type": "markdown",
   "id": "7c638cb2-6070-4dbd-b0ed-95fb83f6699d",
   "metadata": {},
   "source": [
    "#### 1.2.2.1 PREPROCESADO DE LAS VARIABLES CATEGÓRICAS CON >10 VALORES"
   ]
  },
  {
   "cell_type": "code",
   "execution_count": null,
   "id": "c5953aef-c786-4dbf-955e-30ad27bd44c2",
   "metadata": {},
   "outputs": [],
   "source": [
    "# 1. Application mode: unificamos categorías con muy poca representación (<1%) en una sola categoría \"Others\"\n",
    "app_mode_counts = df_students['Application mode'].value_counts(normalize=True)\n",
    "small_categories = app_mode_counts[app_mode_counts < 0.01].index\n",
    "df_students['Application mode'] = df_students['Application mode'].replace(small_categories, 'Others')\n",
    "\n",
    "\n",
    "# 2. Previous qualification: agrupamos los niveles de estudios previos en grandes bloques (Basic, Secondary, Higher).\n",
    "prev_edu_map = {\n",
    "    'Secondary education': 'Secondary',\n",
    "    'Basic education 3rd cycle (9th/10th/11th year) or equiv.': 'Basic',\n",
    "    'Basic education 2nd cycle (6th/7th/8th year) or equiv.': 'Basic',\n",
    "    'Basic education 1st cycle (...)': 'Basic', \n",
    "    'Higher education - degree': 'Higher',\n",
    "    'Higher education - bachelor\\'s degree': 'Higher',\n",
    "    'Higher education - master (2nd cycle)': 'Higher',\n",
    "}\n",
    "df_students['Previous qualification'] = df_students['Previous qualification'].map(prev_edu_map).fillna('Other/Spec')\n",
    "\n",
    "\n",
    "# 3. Mother's qualification: agrupamos en tres grandes niveles (Basic, Secondary, Higher).\n",
    "mother_qual_map = {\n",
    "    'Basic education 1st cycle (...)': 'Basic',\n",
    "    'Basic education 2nd cycle (...)': 'Basic',\n",
    "    'Basic education 3rd cycle (...)': 'Basic',\n",
    "    'Secondary Education - 12th Year of Schooling or Eq.': 'Secondary',\n",
    "    'Higher Education - Degree': 'Higher',\n",
    "    'Higher Education - Bachelor\\'s Degree': 'Higher',\n",
    "    'Unknown': 'Other/Unknown'\n",
    "}\n",
    "df_students[\"Mother's qualification\"] = df_students[\"Mother's qualification\"].map(mother_qual_map).fillna('Other/Unknown')\n",
    "\n",
    "\n",
    "# 4. Father's qualification: mismo criterio que para la madre, agrupando en Basic, Secondary y Higher.\n",
    "father_edu_map = {\n",
    "    # Basic\n",
    "    'Basic education 1st cycle (4th/5th year) or Equiv.': 'Basic',\n",
    "    'Basic Education 3rd Cycle (9th/10th/11th Year) or Equiv.': 'Basic',\n",
    "    'Basic Education 2nd Cycle (6th/7th/8th Year) or Equiv.': 'Basic',\n",
    "    '7th Year (Old)': 'Basic',\n",
    "    '10th Year of Schooling': 'Basic',\n",
    "    '11th Year of Schooling - Not Completed': 'Basic',\n",
    "    '9th Year of Schooling - Not Completed': 'Basic',\n",
    "    'Can read without having a 4th year of schooling': 'Basic',\n",
    "    '8th year of schooling': 'Basic',\n",
    "    '7th year of schooling': 'Basic',\n",
    "    '10th year of schooling - not completed': 'Basic',\n",
    "    '12th Year of Schooling - Not Completed': 'Basic',\n",
    "    \n",
    "    # Secondary\n",
    "    'Secondary Education - 12th Year of Schooling or Equiv.': 'Secondary',\n",
    "    'Other - 11th Year of Schooling': 'Secondary',\n",
    "\n",
    "    # Higher\n",
    "    'Higher Education - Degree': 'Higher',\n",
    "    \"Higher Education - Bachelor's Degree\": 'Higher',\n",
    "    \"Higher Education - Master's\": 'Higher',\n",
    "    'Higher education - degree (1st cycle)': 'Higher',\n",
    "    'Higher Education - Master (2nd cycle)': 'Higher',\n",
    "    'Higher Education - Doctorate': 'Higher',\n",
    "    'Frequency of Higher Education': 'Higher',\n",
    "    \n",
    "    # Unknown / Other\n",
    "    'Unknown': 'Unknown/Other',\n",
    "    'Professional higher technical course': 'Unknown/Other',\n",
    "    'Technological specialization course': 'Unknown/Other'\n",
    "}\n",
    "df_students[\"Father's qualification\"] = df_students[\"Father's qualification\"].map(father_edu_map).fillna('Unknown/Other')\n",
    "\n",
    "\n",
    "# 5. Mother's occupation: reducimos a grandes grupos (Unskilled/Manual, Admin/Services, Specialized/Prof).\n",
    "mother_occ_map = {\n",
    "    'Unskilled Workers': 'Unskilled/Manual',\n",
    "    'Administrative staff': 'Admin/Services',\n",
    "    'Personal Services, Security and Safety Workers and Sellers': 'Admin/Services',\n",
    "    'Intermediate Level Technicians and Professions': 'Specialized/Prof',\n",
    "    'Specialists in Intellectual and Scientific Activities': 'Specialized/Prof',\n",
    "}\n",
    "df_students[\"Mother's occupation\"] = df_students[\"Mother's occupation\"].map(mother_occ_map).fillna('Other/Unknown')\n",
    "\n",
    "\n",
    "# 6. Father's occupation: igual estrategia que para la madre, simplificando en bloques generales.\n",
    "father_occ_map = {\n",
    "    'Armed Forces Professions': 'Armed Forces',\n",
    "    'Installation and Machine Operators and Assembly Workers': 'Unskilled/Manual',\n",
    "    'Farmers and Skilled Workers in Agriculture, Fisheries and Forestry': 'Unskilled/Manual',\n",
    "    'Personal Services, Security and Safety Workers and Sellers': 'Admin/Services',\n",
    "    'Administrative staff': 'Admin/Services',\n",
    "    'Unskilled Workers': 'Unskilled/Manual',\n",
    "    'Armed Forces Officers': 'Armed Forces',\n",
    "    'Skilled Workers in Industry, Construction and Craftsmen': 'Unskilled/Manual',\n",
    "    'Intermediate Level Technicians and Professions': 'Specialized/Prof',\n",
    "}\n",
    "df_students[\"Father's occupation\"] = df_students[\"Father's occupation\"].map(father_occ_map).fillna('Other/Unknown')"
   ]
  },
  {
   "cell_type": "markdown",
   "id": "78e063ee-b134-41b5-b5c0-069397caa48c",
   "metadata": {},
   "source": [
    "### 1.2.3 ANÁLISIS DE TODAS LAS VARIABLES CATEGÓRICAS"
   ]
  },
  {
   "cell_type": "code",
   "execution_count": null,
   "id": "9f141ae5-e63b-405b-9ab5-d06d12729819",
   "metadata": {
    "scrolled": true
   },
   "outputs": [],
   "source": [
    "def plot_distribucion_categoricas(column_name, data):\n",
    "    plt.figure(figsize=(12,5))\n",
    "\n",
    "    plt.subplot(1, 2, 1)\n",
    "    ax = sns.countplot(\n",
    "        x=column_name,\n",
    "        data=data,\n",
    "        order=data[column_name].value_counts().index,\n",
    "        palette=\"viridis\"\n",
    "    )\n",
    "    plt.title(f'Distribution of {column_name}')\n",
    "    plt.xticks(rotation=45)\n",
    "    sns.despine(left=True, bottom=True)\n",
    "\n",
    "    for p in ax.patches:\n",
    "        ax.annotate(\n",
    "            f'{p.get_height()}',\n",
    "            (p.get_x() + p.get_width() / 2., p.get_height()),\n",
    "            ha='center', va='bottom',\n",
    "            fontsize=10, color='black', xytext=(0, 5),\n",
    "            textcoords='offset points'\n",
    "        )\n",
    "\n",
    "    plt.subplot(1, 2, 2)\n",
    "    counts = data[column_name].value_counts()\n",
    "    counts.plot.pie(\n",
    "        autopct='%1.1f%%',\n",
    "        colors=sns.color_palette('Set3'),\n",
    "        startangle=90,\n",
    "        explode=[0.05]*len(counts)\n",
    "    )\n",
    "    plt.title(f'Percentage Distribution of {column_name}')\n",
    "    plt.ylabel('')\n",
    "    plt.show()\n",
    "\n",
    "categoricas = df_students.select_dtypes(include=['object', 'category']).columns.tolist()\n",
    "\n",
    "for feature in categoricas:\n",
    "    plot_distribucion_categoricas(feature, df_students)"
   ]
  },
  {
   "cell_type": "markdown",
   "id": "a453e8b9-33c6-4f00-aeb3-6a69a44d57a6",
   "metadata": {},
   "source": [
    "#### 1.2.3.1 INSIGHTS VARIABLES CATEGÓRICAS\n",
    "1. \"Marital Status\":\n",
    "- La mayoría de los estudiantes se encuentra soltera/o (≈72%), seguida por los casados (≈7%). Las demás categorías —divorciado, unión de hecho, legalmente separado y viudo— presentan una representación muy baja (<2%).\n",
    "- La variable está altamente desbalanceada, por lo que para análisis o modelado futuro podría considerarse agrupar las categorías minoritarias en un bloque “Otros” para simplificar y evitar ruido, aunque la categoría mayoritaria probablemente capture la mayoría de patrones relevantes.\n",
    "\n",
    "2. \"Application mode\":\n",
    "- La mayor parte de los estudiantes se concentra en las primeras fases de admisión: 1st phase - general contingent (≈32%) y 2nd phase - general contingent (≈16%). Otros grupos significativos incluyen Over 23 years old (≈15%) y Change of course (≈5%). Las restantes categorías representan menos del 5% de los registros cada una, siendo Transfer y Change of institution/course las menos frecuentes (<2%).\n",
    "- La variable está parcialmente desbalanceada. Para análisis o modelado futuro, podría ser útil agrupar las categorías con baja representación en un bloque “Others”, mientras se mantiene el detalle de los grupos más grandes para capturar patrones diferenciados de aplicación.\n",
    "\n",
    "3. \"Application order\":\n",
    "- La gran mayoría de los estudiantes ha seleccionado su primera opción como prioridad: choice 1 representa ≈55% de los registros. Las opciones posteriores disminuyen progresivamente: choice 2 (≈10%), choice 3 (≈6%), choice 4 (≈5%), hasta llegar a las menos frecuentes choice 6 y choice 0, con menos del 3% combinadas. Choice 9 no tiene registros.\n",
    "- La variable refleja una fuerte preferencia por la primera opción de aplicación, con una caída pronunciada en las opciones subsecuentes.\n",
    "\n",
    "4. \"Course\"\n",
    "- Nursing domina con ≈18%, seguido por Social Service, Journalism y Management (≈7–9%).\n",
    "- Carreras tecnológicas como Informatics Engineering o Biofuel Production Technologies son minoritarias (<3%).\n",
    "- Esto sugiere que la institución se orienta principalmente hacia salud y ciencias sociales, con baja atracción en ingenierías.\n",
    "\n",
    "5. \"Daytime/evening attendance\":\n",
    "- La gran mayoría cursa en horario diurno (≈89%), mientras que solo un 11% asiste en la modalidad de tarde/noche.\n",
    "- La variable está fuertemente desbalanceada y refleja que el perfil predominante son estudiantes de dedicación completa; la categoría “evening” podría tener importancia en casos de estudiantes trabajadores.\n",
    "\n",
    "6. \"Previous qualification\":\n",
    "- Predomina la formación secundaria (≈82%), con menor representación de “Other/Spec” (≈8%), básica (≈4%) y superior (≈4%).\n",
    "- El fuerte peso de la secundaria indica que la mayoría accede directamente desde este nivel. Las categorías minoritarias podrían reagruparse en “Otros” en caso de simplificación.\n",
    "\n",
    "7. \"Nationality\":\n",
    "- La población estudiantil es mayoritariamente portuguesa (≈98%), con muy poca presencia internacional (menos del 2% repartido en múltiples países).\n",
    "- La variable está extremadamente desbalanceada, lo que la hace poco útil para el modelado predictivo; podría binarizarse como “portugués / no portugués”.\n",
    "\n",
    "8. \"Mother's qualification\":\n",
    "- Predomina la categoría Other/Unknown (≈60%), seguida de secundaria (≈22%) y superior (≈10%).\n",
    "- El elevado peso de datos faltantes (“Other/Unknown”) limita el valor informativo; puede requerir imputación o ser descartada si no aporta al modelo.\n",
    "\n",
    "9. \"Father's qualification\":\n",
    "- La mayoría de los padres posee educación básica (≈66%), con secundaria (≈21%) y superior (≈9%).\n",
    "- La distribución sugiere un perfil parental de bajo nivel educativo, lo que podría estar relacionado con la tasa de éxito o permanencia de los estudiantes.\n",
    "\n",
    "10. \"Mother's occupation\":\n",
    "- Las categorías más frecuentes son Unskilled/Manual (≈37%) y Admin/Services (≈31%), seguidas por Other/Unknown (≈20%) y Specialized/Prof (≈14%).\n",
    "- La variable está algo desbalanceada, pero conserva suficiente información sobre el nivel ocupacional y profesional de la madre. Puede ser útil para analizar correlaciones con el desempeño estudiantil, aunque las categorías minoritarias podrían reagruparse si se busca simplificar el modelo.\n",
    "\n",
    "11. \"Father's occupation\":\n",
    "- La mayoría de los registros corresponde a Unskilled/Manual (≈41%) y Armed Forces (≈31%), con menor representación de Admin/Services (≈18%), Other/Unknown (≈10%) y Specialized/Prof (≈4%).\n",
    "- La variable refleja un perfil profesional predominante en trabajos manuales y fuerzas armadas. La baja representación de las categorías minoritarias podría permitir agruparlas en un bloque “Otros” para simplificación sin perder información relevante.\n",
    "\n",
    "12. \"Displaced\":\n",
    "- Aproximadamente el 55% de los estudiantes están desplazados (viven fuera de su localidad de origen). Esto puede afectar su integración social y desempeño académico, por lo que podría ser relevante para predecir graduación o abandono.\n",
    "\n",
    "13. \"Educational special needs\":\n",
    "- Solo el 1% de los estudiantes presenta necesidades educativas especiales, indicando que la gran mayoría sigue la educación estándar. Esto limita la variabilidad de la variable, aunque los casos identificados podrían requerir apoyo adicional.\n",
    "\n",
    "14. \"Debtor\":\n",
    "- Alrededor del 11% de los estudiantes tiene deudas pendientes. Esto puede reflejar dificultades financieras que incrementen el riesgo de abandono.\n",
    "\n",
    "15. \"Tuition fees up to date\"\n",
    "- El 87% de los estudiantes tiene las cuotas al día. Mantener los pagos completos puede ser un indicador de estabilidad económica y compromiso con la continuidad académica.\n",
    "\n",
    "16. \"Gender\"\n",
    "- La distribución es aproximadamente 66% mujeres y 34% hombres. Diferencias de género pueden estar asociadas a patrones de rendimiento o permanencia en el programa, aunque no necesariamente determinantes.\n",
    "\n",
    "17. \"Scholarship holder\"\n",
    "- Cerca del 27% de los estudiantes recibe beca. Esto podría relacionarse con el rendimiento académico o la permanencia, reflejando apoyo financiero que facilita la continuidad del estudiante.\n",
    "\n",
    "18. \"International\"\n",
    "- Solo el 2% de los estudiantes son internacionales. Esto indica que la universidad está mayoritariamente compuesta por estudiantes locales, aunque los internacionales podrían enfrentar retos adicionales de adaptación y permanencia.\n",
    "\n",
    "19. \"Target\"\n",
    "- Distribución ≈61% graduados y 39% abandonos. Esta variable es el objetivo principal y permite evaluar la relación de todas las anteriores con la permanencia o deserción académica."
   ]
  },
  {
   "cell_type": "markdown",
   "id": "06df74d3-8225-486d-9933-9f65168a03f7",
   "metadata": {},
   "source": [
    "#### 1.2.3.2 DROP\n",
    "En este momento hacemos una primera selección de variables inútiles para el modelo en función de estos primeros insights\n",
    "Variables descartadas:\n",
    "1. \"Nationality\":\n",
    "- La gran mayoría de los estudiantes (≈97,5%) son portugueses, mientras que el resto de nacionalidades tiene una representación muy baja (<3%), muchas con uno o ningún registro.\n",
    "- Debido a esta alta desproporción, la variable aporta muy poca información discriminativa para predecir si un estudiante se gradúa o abandona.\n",
    "- Mantenerla podría introducir ruido o generar codificaciones innecesarias, por lo que se descarta del análisis y del modelado."
   ]
  },
  {
   "cell_type": "code",
   "execution_count": null,
   "id": "96f0620e-32ca-4363-a9de-9216bbd7ca6b",
   "metadata": {},
   "outputs": [],
   "source": [
    "df_students.drop(\"Nacionality\",axis=1,inplace=True)"
   ]
  },
  {
   "cell_type": "markdown",
   "id": "2e7026a8-3038-4aae-96a1-ef26a92edbb4",
   "metadata": {},
   "source": [
    "2. \"Educational special needs\":\n",
    "- Tiene 40 registros “yes” vs 3590 “no”.\n",
    "- Si bien refleja una característica importante, su extremadamente baja representación podría hacer que el modelo no aprenda patrones relevantes. Se podría mantener si interesa estudiar casos especiales, o eliminar si se quiere simplificar."
   ]
  },
  {
   "cell_type": "code",
   "execution_count": null,
   "id": "bff2fc7e-0161-4523-9ba7-d373f9345a77",
   "metadata": {},
   "outputs": [],
   "source": [
    "df_students.drop(\"Educational special needs\",axis=1,inplace=True)"
   ]
  },
  {
   "cell_type": "markdown",
   "id": "2577b0db-9ac6-4d4c-bfc3-aa24feb359b3",
   "metadata": {},
   "source": [
    "3. \"International\"\n",
    "- Solo 86 estudiantes son internacionales. Podría ser irrelevante si la variable no aporta mucho al modelo y se quiere simplificar."
   ]
  },
  {
   "cell_type": "code",
   "execution_count": null,
   "id": "4fa94ec6-97d2-489d-8fc4-5518d4818986",
   "metadata": {},
   "outputs": [],
   "source": [
    "df_students.drop(\"International\",axis=1,inplace=True)"
   ]
  },
  {
   "cell_type": "markdown",
   "id": "a7f666a7-942f-42da-9473-9db2faa5a36b",
   "metadata": {},
   "source": [
    "### 1.2.4 VARIABLES NUMÉRICAS"
   ]
  },
  {
   "cell_type": "code",
   "execution_count": null,
   "id": "d56d8872-5082-46de-80de-870c02dcdf43",
   "metadata": {},
   "outputs": [],
   "source": [
    "def plot_distribucion_mumerica(column_name, data):\n",
    "    plt.figure(figsize=(10, 4))\n",
    "\n",
    "    plt.subplot(1, 2, 1)\n",
    "    sns.histplot(data[column_name], bins=30, kde=True, color='skyblue')\n",
    "    plt.title(f'Distribution of {column_name}')\n",
    "\n",
    "    plt.subplot(1, 2, 2)\n",
    "    sns.boxplot(x=data[column_name], color='lightgreen')\n",
    "    plt.title(f'Boxplot of {column_name}')\n",
    "\n",
    "    plt.tight_layout()\n",
    "    plt.show()\n",
    "\n",
    "\n",
    "numeric_features = df_students.select_dtypes(include=['int64','float64']).columns.tolist()\n",
    "\n",
    "for feature in numeric_features:\n",
    "    plot_distribucion_mumerica(feature, df_students)\n"
   ]
  },
  {
   "cell_type": "code",
   "execution_count": null,
   "id": "7bee92b5-802f-4b36-aa00-f7650aaac1cc",
   "metadata": {},
   "outputs": [],
   "source": [
    "numerical_df = df_students.select_dtypes(include=[np.number])\n",
    "\n",
    "summary = pd.DataFrame({\n",
    "    \"mean\": numerical_df.mean(),\n",
    "    \"median\": numerical_df.median(),\n",
    "    \"std\": numerical_df.std(),\n",
    "    \"min\": numerical_df.min(),\n",
    "    \"max\": numerical_df.max(),\n",
    "    \"skewness\": numerical_df.skew(),\n",
    "    \"kurtosis\": numerical_df.kurt(),\n",
    "    \"nulos\": numerical_df.isnull().sum()\n",
    "})\n",
    "\n",
    "summary = summary.round(3)\n",
    "\n",
    "display(summary)\n"
   ]
  },
  {
   "cell_type": "markdown",
   "id": "9fa6c559-ede4-4da0-bd36-bdf03136e9d1",
   "metadata": {},
   "source": [
    "#### 1.2.4.1 INSIGHTS VARIABLES NUMÉRICAS\n",
    "1. Age at enrollment:\n",
    "- La distribución está positivamente sesgada (skewness = 1.991), lo que indica que aunque la mayoría de los estudiantes ingresan en edades tempranas (cerca de 20 años), existe un grupo de estudiantes significativamente mayor. En el histograma observamos claramente como \n",
    "- Insight: Los estudiantes más mayores podrían enfrentar responsabilidades adicionales, como trabajo o familia, que podrían influir en su rendimiento académico o propensión a abandonar. Por el contrario, los más jóvenes podrían adaptarse más fácilmente al entorno universitario.\n",
    "2. Curricular units 1st sem (credited)\n",
    "- Sesgo positivo elevado (skewness ≈ 4.06) y kurtosis muy alta (≈ 17.99), lo que indica que la mayoría de los estudiantes tienen 0 créditos, pero unos pocos logran muchos créditos.\n",
    "- Insight: Los estudiantes que logran acumular créditos tempranamente muestran alto compromiso y probablemente menor riesgo de abandono (lo comprobaremos mas adelante), mientras que los que no logran créditos iniciales podrían necesitar apoyo académico.\n",
    "- Tiene una distribución extremadamente sesgada y curtosis altísima. La mayoría de estudiantes tiene 0, con unos pocos valores extremos. Esto aporta muy poca información general para el modelo, y puede actuar más como ruido que como predictor confiable. Podrías agruparlo, transformarlo o incluso descartarlo.\n",
    "3. Curricular units 1st sem (enrolled)\n",
    "- Sesgo positivo (≈ 1.65) sugiere que algunos estudiantes se inscriben en una carga excesiva de unidades.\n",
    "- Insight: Una carga muy alta puede generar estrés y mayor riesgo de fracaso o abandono; la mayoría mantiene una carga promedio, lo que refleja planificación académica estándar.\n",
    "4. Curricular units 1st sem (evaluations)\n",
    "- Sesgo positivo moderado (≈ 1.15), con estudiantes enfrentando muchas evaluaciones.\n",
    "- Insight: Un número elevado de evaluaciones podría indicar cursos más exigentes. Aquellos con muchas evaluaciones podrían tener mayor presión académica, lo que puede correlacionarse con riesgo de abandono si no gestionan bien su tiempo.\n",
    "5. Curricular units 1st sem (approved)\n",
    "- Sesgo ligeramente positivo (≈ 0.75), con la mayoría aprobando alrededor de 5 unidades.\n",
    "- Insight: El desempeño en el primer semestre es un indicador temprano del éxito académico. Los estudiantes con pocas aprobaciones iniciales podrían estar en riesgo de abandono.\n",
    "6. Curricular units 1st sem (grade)\n",
    "- Sesgo negativo (≈ -1.45), lo que indica que la mayoría tiene notas altas, pero algunos estudiantes tienen calificaciones muy bajas.\n",
    "- Insight: Las calificaciones bajas extremas pueden ser un predictor temprano de riesgo de abandono, mientras que la mayoría con buenas notas probablemente continuará hasta la graduación.\n",
    "\n",
    "7. Curricular units 1st sem (without evaluations)\n",
    "- Sesgo positivo extremo (≈ 8.72) y kurtosis muy alta (≈ 101.7), indicando que casi todos los estudiantes tienen 0 unidades sin evaluaciones, con unos pocos casos extremos.\n",
    "- Insight: La mayoría está cumpliendo con las evaluaciones programadas, pero los casos con unidades sin evaluaciones podrían reflejar inasistencias o retrasos académicos que podrían afectar su progreso.\n",
    "\n",
    "8. Curricular units 2nd sem (credited)\n",
    "- Sesgo positivo elevado (≈ 4.49) y kurtosis alta (≈ 22.65).\n",
    "- Insight: Similar al primer semestre, pocos estudiantes acumulan créditos avanzados temprano; podrían ser estudiantes sobresalientes o muy comprometidos. Los que no tienen créditos podrían estar en riesgo.\n",
    "- Tiene una distribución extremadamente sesgada y curtosis altísima. La mayoría de estudiantes tiene 0, con unos pocos valores extremos. Esto aporta muy poca información general para el modelo, y puede actuar más como ruido que como predictor confiable. Podrías agruparlo, transformarlo o incluso descartarlo.\n",
    "\n",
    "9. Curricular units 2nd sem (enrolled)\n",
    "- Sesgo moderado positivo (≈ 0.81).\n",
    "- Insight: La mayoría mantiene una carga académica estándar, pero los que se inscriben en muchas unidades podrían enfrentar riesgo de sobrecarga y estrés.\n",
    "\n",
    "10. Curricular units 2nd sem (evaluations)\n",
    "- Sesgo bajo (≈ 0.38), la distribución es más simétrica que en el primer semestre.\n",
    "- Insight: La carga de evaluaciones es más uniforme; los estudiantes con más evaluaciones podrían necesitar más apoyo para evitar sobrecarga.\n",
    "\n",
    "11. Curricular units 2nd sem (approved)\n",
    "- Sesgo ligeramente positivo (≈ 0.27), indicando que la mayoría aprueba un número promedio de unidades.\n",
    "- Insight: La aprobación del segundo semestre refleja continuidad en el rendimiento académico; las bajas aprobaciones podrían anticipar riesgo de abandono.\n",
    "\n",
    "12. Curricular units 2nd sem (grade)\n",
    "- Sesgo negativo moderado (≈ -1.17), similar al primer semestre, con mayoría de estudiantes obteniendo buenas notas.\n",
    "- Insight: El rendimiento general sigue siendo alto; notas bajas persistentes podrían indicar riesgo académico.\n",
    "\n",
    "13. Curricular units 2nd sem (without evaluations)\n",
    "- Sesgo positivo alto (≈ 7.62), kurtosis alta (≈ 73.26).\n",
    "- Insight: La mayoría completa todas las evaluaciones, pero unos pocos podrían estar retrasados o tener problemas de asistencia.\n",
    "\n",
    "14. Unemployment rate\n",
    "- Distribución cercana a simétrica (skew ≈ 0.19).\n",
    "- Insight: Entorno macroeconómico estable, pero mayores tasas de desempleo podrían afectar indirectamente a estudiantes con trabajos parciales.\n",
    "\n",
    "15. Inflation rate\n",
    "- Sesgo ligero positivo (≈ 0.27).\n",
    "- Insight: Variaciones leves en la inflación probablemente no afectan significativamente a los estudiantes, aunque podrían impactar en la capacidad de pago de matrícula.\n",
    "\n",
    "16. GDP\n",
    "- Sesgo negativo ligero (≈ -0.39).\n",
    "- Insight: Cambios en el PIB podrían reflejar el entorno económico; caídas pronunciadas podrían afectar la financiación de estudios o becas."
   ]
  },
  {
   "cell_type": "markdown",
   "id": "e0b541b0-ad46-4045-99b1-92c9ed876daa",
   "metadata": {},
   "source": [
    "### 1.3 ANALISIS RESPECTO A TARGET\n",
    "#### 1.3.1 VARIABLES CATEGÓRICAS RESPECTO A TARGET"
   ]
  },
  {
   "cell_type": "markdown",
   "id": "a00b75a4-9059-4fd8-a58c-3497679318a7",
   "metadata": {},
   "source": [
    "FUNCION PARA EL ANÁLISIS COMPARATIVO DE VARIABLES CATEGÓRICAS"
   ]
  },
  {
   "cell_type": "code",
   "execution_count": null,
   "id": "125ac9e6-3f8c-424e-b4c7-06b7058977eb",
   "metadata": {},
   "outputs": [],
   "source": [
    "def plot_numericas_categoricas(df, categorical_col, target_col='Target', figsize=(10,6), cmap=\"Set2\"):\n",
    "    ct = pd.crosstab(df[categorical_col], df[target_col])\n",
    "    ct_percent = ct.div(ct.sum(axis=1), axis=0) * 100\n",
    "\n",
    "    ax = ct_percent.plot(kind=\"barh\", stacked=True, figsize=figsize, cmap=cmap, edgecolor='white', width=0.7)\n",
    "\n",
    "    plt.xlabel(\"Percentage (%)\")\n",
    "    plt.ylabel(categorical_col)\n",
    "    plt.title(f\"{categorical_col} vs {target_col}\", fontsize=14, fontweight='bold')\n",
    "\n",
    "    for i, row in enumerate(ct_percent.values):\n",
    "        left = 0\n",
    "        for j, val in enumerate(row):\n",
    "            if val > 0:\n",
    "                ax.text(left + val/2, i, f\"{val:.1f}%\", va='center', ha='center', color='white', fontsize=9, fontweight='bold')\n",
    "                left += val\n",
    "\n",
    "    totals = ct.sum(axis=1)\n",
    "    for i, total in enumerate(totals):\n",
    "        ax.text(102, i, f\"Total: {total}\", va='center', ha='left', fontsize=10, fontweight='bold', color='black')\n",
    "\n",
    "    plt.xlim(0, 110)\n",
    "    plt.legend(title=target_col, bbox_to_anchor=(1.05, 1), fontsize=10)\n",
    "    plt.grid(axis='x', linestyle='--', alpha=0.7)\n",
    "    plt.tight_layout()\n",
    "    plt.show()\n"
   ]
  },
  {
   "cell_type": "code",
   "execution_count": null,
   "id": "f7e09d92-beb6-4312-bbea-189f31df9327",
   "metadata": {},
   "outputs": [],
   "source": [
    "plot_numericas_categoricas(df_students, 'Marital status')"
   ]
  },
  {
   "cell_type": "markdown",
   "id": "0f0a78c0-9124-4796-a8b9-70a7e7101164",
   "metadata": {},
   "source": [
    "### Marital Status and Academic success\n",
    "- Lo más destacado es que los solteros son mayoría absoluta: concentran tanto la mayor cantidad de dropouts (1184) como de graduados (2015).\n",
    "- En cambio, los casados y divorciados tienen números menores, pero muestran una mayor proporción relativa de abandono.\n",
    "- El resto de categorías (facto union, separated, widow) son poco representativas y no aportan un patrón claro."
   ]
  },
  {
   "cell_type": "code",
   "execution_count": null,
   "id": "d5eda0c4-7e18-4a2b-9d12-0b39fed1bab4",
   "metadata": {},
   "outputs": [],
   "source": [
    "plot_numericas_categoricas(df_students, 'Course')"
   ]
  },
  {
   "cell_type": "markdown",
   "id": "2666373d-d4bb-4d3f-bc00-fe1b422b8ee7",
   "metadata": {},
   "source": [
    "### Course and Academic success\n",
    "- Lo más llamativo es Nursing, con 118 dropouts frente a 548 graduados → es el curso con mayor éxito relativo de permanencia.\n",
    "- En contraste, Informatics Engineering presenta un caso crítico: 92 dropouts frente a solo 14 graduados, lo que refleja altísima deserción.\n",
    "- También destacan patrones negativos en Equiniculture (78 vs 42) y Basic Education (85 vs 57), donde el abandono supera a los graduados.\n",
    "- La mayoría de carreras (Marketing, Animation, Tourism, Veterinary Nursing, etc.) muestran proporciones más equilibradas, aunque algunas con ligera inclinación al dropout.\n",
    "- Casos muy pequeños como Biofuel Production Technologies (8 vs 1) tienen poca relevancia estadística."
   ]
  },
  {
   "cell_type": "code",
   "execution_count": null,
   "id": "062a988e-56f1-4d00-b0c2-efeef1cd2eb7",
   "metadata": {},
   "outputs": [],
   "source": [
    "plot_numericas_categoricas(df_students, 'Debtor')"
   ]
  },
  {
   "cell_type": "markdown",
   "id": "e3d51711-f06d-4702-9414-9c65bbfcaaad",
   "metadata": {},
   "source": [
    "### Debtor and Academic success\n",
    "- La diferencia es muy clara: los estudiantes sin deudas tienen mejores resultados (2108 graduados vs 1109 dropouts).\n",
    "- En cambio, los que sí tienen deudas muestran una situación inversa y preocupante (312 dropouts frente a solo 101 graduados).\n",
    "- Esto podria tener un gran peso en el modelo debido tanto al desequilibrio tan evidente entre ambas variables y al valor contextual racional derivado de que las dificultades económicas afectan directamente la permanencia en la universidad"
   ]
  },
  {
   "cell_type": "code",
   "execution_count": null,
   "id": "71db4b47-1fec-4ce2-8d54-fcf0a3114c86",
   "metadata": {},
   "outputs": [],
   "source": [
    "plot_numericas_categoricas(df_students, 'Scholarship holder')"
   ]
  },
  {
   "cell_type": "markdown",
   "id": "2d24b4c9-8299-4d5b-ac87-740408aa33f3",
   "metadata": {},
   "source": [
    "### Scholarship holder and Academic success\n",
    "- Los estudiantes sin beca tienen más casos de abandono (1,287) que de graduación (1,374), lo que refleja un riesgo elevado de dropout.\n",
    "En cambio, los becados muestran una diferencia muy marcada: 835 graduados frente a solo 134 dropouts, es decir, una proporción de éxito mucho mayor.\n",
    "- La beca parece actuar como un factor protector: reduce significativamente la probabilidad de abandono y aumenta la probabilidad de graduación. Esto tiene mucho sentido en el contexto, ya que recibir apoyo económico suele aliviar cargas financieras y permite concentrarse en los estudios.\n",
    "- Otra opción es que acceder a la beca impida que te salgas del curso sin re abonar lo invertido por la beca."
   ]
  },
  {
   "cell_type": "code",
   "execution_count": null,
   "id": "a7210fe4-3a42-4fcc-a85b-62843667ae49",
   "metadata": {},
   "outputs": [],
   "source": [
    "plot_numericas_categoricas(df_students, 'Application order')"
   ]
  },
  {
   "cell_type": "markdown",
   "id": "82b0f159-fd97-4f41-8d29-b63c34b0a464",
   "metadata": {},
   "source": [
    "### Application order and Academic success\n",
    "- La gran mayoría de los estudiantes selecciona su primera opción de aplicación (choice 1), con 1,408 graduados frente a 1,053 dropouts. Las opciones posteriores tienen menos estudiantes, y los dropouts tienden a ser proporción relativamente más alta en choices 4, 5 y 6.\n",
    "- La prioridad de aplicación refleja motivación o claridad en el objetivo: los estudiantes que eligieron su primera opción tienen más probabilidades de graduarse, mientras que los que seleccionaron opciones posteriores muestran un ligero aumento relativo de abandono.\n",
    "- Esto sugiere que Application order puede ser un predictor útil, aunque su peso no será tan grande como variables económicas o académicas directas."
   ]
  },
  {
   "cell_type": "code",
   "execution_count": null,
   "id": "5942e15f-09b3-443a-826c-69f9e2ead447",
   "metadata": {},
   "outputs": [],
   "source": [
    "plot_numericas_categoricas(df_students, 'Tuition fees up to date')"
   ]
  },
  {
   "cell_type": "markdown",
   "id": "5e91905f-304c-4031-a7ca-71de4df4bbb1",
   "metadata": {},
   "source": [
    "### Tuition fees up to date and Academic success\n",
    "- Los datos muestran un patrón muy claro: mantener las cuotas al día se asocia fuertemente con la graduación, mientras que los incumplimientos coinciden mayoritariamente con el abandono.\n",
    "- Esta variable es un fuerte indicador de riesgo académico y puede ser clave en modelos predictivos, ya que distingue casi de manera directa a los estudiantes que completan el curso de los que abandonan."
   ]
  },
  {
   "cell_type": "code",
   "execution_count": null,
   "id": "84d5d146-4ed0-4ead-a777-3602c8233df7",
   "metadata": {},
   "outputs": [],
   "source": [
    "plot_numericas_categoricas(df_students, 'Daytime/evening attendance')"
   ]
  },
  {
   "cell_type": "markdown",
   "id": "6aa27b69-0ec1-473f-a33e-6bfda5c02406",
   "metadata": {},
   "source": [
    "### Daytime/evening attendance and Academic Success\n",
    "- Se observa que la gran mayoría de los estudiantes asiste en horario diurno, y dentro de este grupo, la proporción de graduados es significativamente mayor que la de dropouts. En cambio, los estudiantes de horario vespertino tienen un balance mucho más cercano entre graduados y dropouts.\n",
    "- El horario de asistencia podría reflejar factores como disponibilidad de tiempo, obligaciones laborales u otras responsabilidades, haciendo que esta variable tenga cierta capacidad predictiva sobre el éxito académico."
   ]
  },
  {
   "cell_type": "markdown",
   "id": "bd3cbcbe-df98-4500-9ada-26323e6b9af9",
   "metadata": {},
   "source": [
    "#### 1.3.2 VARIABLES NUMÉRICAS RESPECTO A TARGET"
   ]
  },
  {
   "cell_type": "markdown",
   "id": "183dbbd3-60c1-4227-becd-9b34bbd4c18d",
   "metadata": {},
   "source": [
    "FUNCIÓN PARA ANÁLISIS COMPARATIVO DE VARIABLES NUMÉRICAS"
   ]
  },
  {
   "cell_type": "code",
   "execution_count": null,
   "id": "e14a28ae-4a0d-4aee-92f7-eef2fc1551d8",
   "metadata": {},
   "outputs": [],
   "source": [
    "def analisis_numerica_target(df, numeric_col, target_col='Target', figsize=(12,5), palette='Set2'):\n",
    "    stats = df.groupby(target_col)[numeric_col].agg(['mean','median','std','min','max'])\n",
    "    print(f\"\\n=== Estadísticas de '{numeric_col}' por '{target_col}' ===\")\n",
    "    print(stats)\n",
    "    \n",
    "    plt.figure(figsize=figsize)\n",
    "    sns.histplot(data=df, x=numeric_col, hue=target_col, kde=True, palette=palette, element='step', stat='density', common_norm=False)\n",
    "    plt.title(f\"KDE/Histograma de {numeric_col} por {target_col}\")\n",
    "    plt.xlabel(numeric_col)\n",
    "    plt.ylabel(\"Densidad\")\n",
    "    plt.show()\n",
    "    \n",
    "    if df[target_col].nunique() == 2:\n",
    "        target_map = {k:i for i,k in enumerate(df[target_col].unique())}\n",
    "        corr = df[numeric_col].corr(df[target_col].map(target_map))\n",
    "        print(f\"Correlación de {numeric_col} con {target_col} (binaria): {corr:.3f}\")\n",
    "    else:\n",
    "        print(f\"No se calcula correlación: '{target_col}' no es binaria\")"
   ]
  },
  {
   "cell_type": "code",
   "execution_count": null,
   "id": "d9b17c91-d257-467e-8fac-726e85d61ba0",
   "metadata": {},
   "outputs": [],
   "source": [
    "analisis_numerica_target(df_students, \"Age at enrollment\")"
   ]
  },
  {
   "cell_type": "markdown",
   "id": "fd33729b-9ff2-4ae0-8090-2e3ee9c72627",
   "metadata": {},
   "source": [
    "### Age at enrollment\n",
    "- Los estudiantes que abandonan son, en promedio, mayores (≈26 años) que los graduados (≈22 años).\n",
    "- La correlación negativa (-0.267) sugiere que a mayor edad al ingresar, mayor riesgo de abandono.\n",
    "\n",
    "Valor: La edad puede ser un indicador útil para priorizar seguimiento o soporte a estudiantes mayores."
   ]
  },
  {
   "cell_type": "code",
   "execution_count": null,
   "id": "965432db-297e-48d0-964a-a6019b00bb53",
   "metadata": {},
   "outputs": [],
   "source": [
    "analisis_numerica_target(df_students, \"Curricular units 1st sem (credited)\")"
   ]
  },
  {
   "cell_type": "markdown",
   "id": "e7cbff46-8ae8-4d3c-80ad-b57c315cc1ad",
   "metadata": {},
   "source": [
    "### Curricular units 1st sem (credited)\n",
    "- Los estudiantes que graduaron acumularon en promedio 0,85 créditos en el primer semestre (mediana 0), mientras que los que abandonaron promediaron 0,61 créditos (mediana 0). La desviación estándar es relativamente alta en ambos grupos (≈2,1–2,7), reflejando que existen algunos estudiantes con muchos créditos, pero la mayoría tiene pocos o ninguno.\n",
    "- El rango muestra que tanto graduados como dropouts incluyen casos extremos (0–20 créditos para graduados, 0–18 para abandonos), indicando alta dispersión.\n",
    "- La correlación con el Target es muy baja (0,047), lo que sugiere que, aunque puede haber cierta relación, la cantidad de créditos acreditados en el primer semestre por sí sola no es un predictor fuerte del éxito académico."
   ]
  },
  {
   "cell_type": "code",
   "execution_count": null,
   "id": "e74cd4c8-e771-4407-982b-669d1ec8ea99",
   "metadata": {},
   "outputs": [],
   "source": [
    "analisis_numerica_target(df_students, \"Curricular units 1st sem (evaluations)\")"
   ]
  },
  {
   "cell_type": "markdown",
   "id": "645ef9c5-eb92-4ae7-bf42-aeae994112f7",
   "metadata": {},
   "source": [
    "### Curricular units 1st sem (evaluations)\n",
    "- En promedio, los estudiantes graduados realizaron unas 8,27 evaluaciones en el primer semestre (mediana 8), mientras que los que abandonaron hicieron ligeramente menos, unas 7,75 (mediana 8).\n",
    "- Aunque la diferencia es pequeña, la desviación estándar más alta en los abandonos (≈4,9 frente a ≈3,8 en graduados) sugiere que este grupo es más heterogéneo: algunos hicieron muchas pruebas, mientras que otros prácticamente no se presentaron.\n",
    "- El rango máximo también refleja que los graduados llegaron a realizar hasta 45 evaluaciones frente a 31 de los abandonados.\n",
    "- La correlación con el Target es muy baja (0,06), por lo que el número de evaluaciones realizadas en sí mismo no parece ser un factor decisivo de éxito o abandono, aunque puede servir como variable de contexto en combinación con otras (por ejemplo, aprobadas o calificaciones)."
   ]
  },
  {
   "cell_type": "code",
   "execution_count": null,
   "id": "93cb370d-1e6e-4943-a1b4-29c422727c5b",
   "metadata": {},
   "outputs": [],
   "source": [
    "analisis_numerica_target(df_students, \"Curricular units 1st sem (approved)\")"
   ]
  },
  {
   "cell_type": "markdown",
   "id": "d0ce532b-2e21-47e7-9e56-30597c3df57c",
   "metadata": {},
   "source": [
    "### Curricular units 1st sem (approved)\n",
    "- Los estudiantes que graduaron aprobaron en promedio 6 asignaturas en el primer semestre (mediana 6), mientras que los que abandonaron aprobaron apenas ≈2,5 asignaturas (mediana 2).\n",
    "- La desviación estándar es similar en ambos grupos (~2.6–2.85), lo que indica que hay cierta dispersión, pero la diferencia de medias es significativa.\n",
    "- El rango muestra que incluso los que abandonaron tienen algunos aprobados (0–21), mientras que los graduados alcanzan hasta 26.\n",
    "- La correlación con el Target es 0.555, lo que indica que esta variable es bastante predictiva: a mayor número de asignaturas aprobadas en el primer semestre, mayor probabilidad de graduarse."
   ]
  },
  {
   "cell_type": "code",
   "execution_count": null,
   "id": "580ee68d-686a-4e35-bed5-5b0d0baa52db",
   "metadata": {},
   "outputs": [],
   "source": [
    "analisis_numerica_target(df_students, \"Curricular units 1st sem (grade)\")"
   ]
  },
  {
   "cell_type": "markdown",
   "id": "0ff83a9d-b2bb-46cc-b3d3-cc056c22ee0b",
   "metadata": {},
   "source": [
    "### Curricular units 1st sem (grade)\n",
    "- Los estudiantes que graduaron tienen una media de 12.64 puntos en sus calificaciones del primer semestre (mediana 13), mientras que los que abandonaron promedian 7.25 puntos (mediana 10.93).\n",
    "- La desviación estándar es más alta en los que abandonaron (~6.03 vs 2.7), indicando mayor dispersión y algunos casos con calificaciones bajas pero también algunas más altas.\n",
    "- El rango muestra que ambos grupos tienen valores extremos (0–18), pero la media y mediana claramente diferencian a graduados y dropout.\n",
    "- La correlación con el Target es 0.52, indicando que las notas del primer semestre son también un buen predictor del éxito académico, aunque ligeramente menos fuerte que la cantidad de asignaturas aprobadas."
   ]
  },
  {
   "cell_type": "code",
   "execution_count": null,
   "id": "0496ca37-d209-4c6f-8425-6a8eec2151cc",
   "metadata": {},
   "outputs": [],
   "source": [
    "analisis_numerica_target(df_students, \"Curricular units 1st sem (enrolled)\")"
   ]
  },
  {
   "cell_type": "markdown",
   "id": "ffe061b5-2efc-4284-8f81-e31eba739573",
   "metadata": {},
   "source": [
    "### Curricular units 1st sem (enrolled)\n",
    "- Los graduados y los dropouts se matriculan en un número similar de unidades el primer semestre: promedio 6.67 vs 5.82, mediana 6 en ambos casos.\n",
    "- La dispersión es algo mayor en los graduados (std 2.66 vs 2.33), y ambos grupos incluyen estudiantes con 0 unidades matriculadas, lo que puede reflejar casos atípicos.\n",
    "- La correlación con el Target es muy baja (0.161), indicando que el simple número de unidades en las que se matricula un estudiante no es un buen predictor de graduación o abandono."
   ]
  },
  {
   "cell_type": "code",
   "execution_count": null,
   "id": "48f1f534-a2ef-4e42-93ae-85b0ba5b176f",
   "metadata": {},
   "outputs": [],
   "source": [
    "analisis_numerica_target(df_students, \"Curricular units 1st sem (without evaluations)\")"
   ]
  },
  {
   "cell_type": "markdown",
   "id": "14803ec3-dc1d-4290-afb3-88577347ddc5",
   "metadata": {},
   "source": [
    "### Curricular units 1st sem (without evaluations)\n",
    "- Los estudiantes que abandonaron presentan en promedio 0,19 asignaturas sin evaluación en el primer semestre, más del doble que los graduados (0,09). La mediana en ambos grupos es 0, lo que indica que la mayoría de los estudiantes sí se presentan a todas sus evaluaciones, pero cuando existen asignaturas sin evaluar, estas son más frecuentes en quienes terminan abandonando.\n",
    "- La desviación estándar ligeramente más alta en los dropouts (0,79 frente a 0,59) refleja mayor dispersión: algunos casos extremos muestran hasta 8 asignaturas sin evaluación en abandonos, frente a un máximo de 12 en graduados, aunque en proporción mucho menor.\n",
    "- La correlación negativa con el Target (-0,075) confirma que acumular asignaturas sin evaluación es un indicador, aunque débil, de mayor riesgo de abandono. Este patrón tiene lógica: no presentarse a exámenes puede reflejar desmotivación, sobrecarga académica o problemas externos que impactan en la continuidad de los estudios."
   ]
  },
  {
   "cell_type": "code",
   "execution_count": null,
   "id": "a36c937d-2b5a-46ca-b82a-e06423c80732",
   "metadata": {},
   "outputs": [],
   "source": [
    "analisis_numerica_target(df_students, \"Curricular units 2nd sem (credited)\")"
   ]
  },
  {
   "cell_type": "markdown",
   "id": "d4a823ad-5536-456b-ae81-58fb068ca579",
   "metadata": {},
   "source": [
    "### Curricular units 2nd sem (credited)\n",
    "- En el segundo semestre, los graduados registran un promedio ligeramente superior de asignaturas convalidadas (0,67) frente a los estudiantes que abandonan (0,45). Sin embargo, en ambos casos la mediana es 0, lo que indica que la mayoría no tiene créditos reconocidos.\n",
    "- La dispersión es algo mayor en los graduados (desviación estándar 2,21 frente a 1,68), lo que sugiere que existe un pequeño grupo de estudiantes que sí acumula convalidaciones en este periodo.\n",
    "- La correlación con el Target es positiva pero muy baja (0,052), lo que refleja que el número de créditos convalidados tiene un peso prácticamente marginal en la predicción del éxito académico.\n",
    "- Aunque no parece ser un factor decisivo, podría interpretarse que los estudiantes con más convalidaciones suelen estar mejor posicionados académicamente o provienen de trayectorias previas más sólidas, lo que puede facilitar la continuidad."
   ]
  },
  {
   "cell_type": "code",
   "execution_count": null,
   "id": "5a10555f-b1a8-4204-b96e-f2052a31a199",
   "metadata": {},
   "outputs": [],
   "source": [
    "analisis_numerica_target(df_students, \"Curricular units 2nd sem (approved)\")"
   ]
  },
  {
   "cell_type": "markdown",
   "id": "9625b831-dcf7-4562-818c-1a2d1fde45f3",
   "metadata": {},
   "source": [
    "### Curricular units 2nd sem (approved)\n",
    "- Los estudiantes que graduaron aprobaron en promedio 6.18 asignaturas del segundo semestre (mediana 6), mientras que los que abandonaron apenas aprobaron 1.94 asignaturas (mediana 0).\n",
    "- La desviación estándar indica que los dropouts tienen más dispersión (~2.57), con algunos aprobando varias asignaturas, pero la mayoría con pocas o ninguna.\n",
    "- El rango confirma que ambos grupos tienen extremos (0–16 para dropouts, 0–20 para graduados), pero la media y mediana muestran una clara diferencia.\n",
    "- La correlación con el Target es 0.654, la más alta hasta ahora, lo que indica que aprobar asignaturas en el segundo semestre es un fuerte predictor de graduación."
   ]
  },
  {
   "cell_type": "code",
   "execution_count": null,
   "id": "65affe71-9357-444b-8406-e03394d7a87b",
   "metadata": {},
   "outputs": [],
   "source": [
    "analisis_numerica_target(df_students, \"Curricular units 2nd sem (enrolled)\")"
   ]
  },
  {
   "cell_type": "markdown",
   "id": "c389d48c-2c88-423a-998b-4f3175127106",
   "metadata": {},
   "source": [
    "### Curricular units 2nd sem (enrolled)\n",
    "- En el segundo semestre, los graduados se matriculan en más asignaturas en promedio (6,63) que los estudiantes que abandonan (5,78). La mediana coincide en 6 para ambos grupos, lo que indica que la diferencia se da en los extremos: los graduados tienden a asumir cargas más altas, llegando hasta 23 materias, mientras que los dropouts se quedan más bajos (máximo 18).\n",
    "- La desviación estándar es similar (2,29 vs 2,11), lo que refleja cierta variabilidad pero consistente en ambos grupos.\n",
    "- La correlación con el Target es moderada y positiva (0,183), lo que sugiere que matricularse en un mayor número de asignaturas se relaciona con una mayor probabilidad de graduarse.\n",
    "- En términos prácticos, podría interpretarse como un indicador de compromiso académico: los estudiantes que mantienen un ritmo alto de matrícula probablemente confían en su capacidad de aprobar y permanecer en el programa, mientras que quienes reducen la carga académica pueden estar enfrentando dificultades que desembocan en el abandono."
   ]
  },
  {
   "cell_type": "code",
   "execution_count": null,
   "id": "539ea6d2-8f77-4b8a-a171-91e95c757d4d",
   "metadata": {},
   "outputs": [],
   "source": [
    "analisis_numerica_target(df_students, \"Curricular units 2nd sem (grade)\")"
   ]
  },
  {
   "cell_type": "markdown",
   "id": "e410332c-436c-4b8e-b7fe-8bc8b165c48f",
   "metadata": {},
   "source": [
    "### Curricular units 2nd sem (grade)\n",
    "- Los estudiantes que graduaron tienen un promedio de calificaciones de 12.70 en el segundo semestre (mediana 13), mientras que los dropouts apenas llegan a 5.90 (mediana 0).\n",
    "- La desviación estándar indica que entre los dropouts hay mucha dispersión (6.12), con algunos teniendo calificaciones altas pero muchos con 0, mientras que los graduados muestran más consistencia (2.69).\n",
    "- El rango confirma que los dropouts pueden tener calificaciones altas aisladas, pero la mayoría está concentrada en valores bajos.\n",
    "- La correlación con el Target es 0.605, también bastante alta, indicando que las calificaciones del segundo semestre son un buen predictor de graduación."
   ]
  },
  {
   "cell_type": "code",
   "execution_count": null,
   "id": "c95f0006-85ad-40ec-afc4-60e28e9a2d80",
   "metadata": {},
   "outputs": [],
   "source": [
    "analisis_numerica_target(df_students, \"Curricular units 2nd sem (evaluations)\")"
   ]
  },
  {
   "cell_type": "markdown",
   "id": "7e652693-17bd-4660-8c2e-f1e677b3e6d1",
   "metadata": {},
   "source": [
    "### Curricular units 2nd sem (evaluations)\n",
    "- Los estudiantes graduados se presentan a un mayor número de evaluaciones en el segundo semestre (media 8,14; mediana 8) que los dropouts (media 7,17; mediana 7). Aunque la diferencia no es abismal, sí es consistente, y además la desviación estándar muestra que los abandonos tienen mayor dispersión (4,81 frente a 3,24), es decir, un comportamiento más irregular en su asistencia a evaluaciones.\n",
    "- La correlación positiva (0,119) confirma que cuantas más evaluaciones realiza un estudiante, mayor es la probabilidad de graduarse.\n",
    "En términos prácticos, esta variable refleja el grado de compromiso: presentarse a las evaluaciones implica continuidad y esfuerzo sostenido, mientras que la ausencia de las mismas suele anticipar riesgo de abandono."
   ]
  },
  {
   "cell_type": "code",
   "execution_count": null,
   "id": "98d6a620-d50c-4f5d-99cc-37ca649a80d1",
   "metadata": {
    "scrolled": true
   },
   "outputs": [],
   "source": [
    "analisis_numerica_target(df_students, \"Curricular units 2nd sem (without evaluations)\")"
   ]
  },
  {
   "cell_type": "markdown",
   "id": "7738aa91-e50c-4258-a88d-8af5a12240b1",
   "metadata": {},
   "source": [
    "### Curricular units 2nd sem (without evaluations)\n",
    "- Los estudiantes que abandonan presentan un promedio más alto de asignaturas matriculadas pero nunca evaluadas (0,24) en comparación con los graduados (0,08). Aunque la mediana es 0 para ambos grupos, la dispersión es mayor en los dropouts (desviación estándar 0,99 frente a 0,52), lo que indica que es más común que los estudiantes en riesgo acumulen materias sin presentarse a examen o sin finalizar el proceso.\n",
    "- La correlación con el Target es negativa (-0,103), lo que significa que a mayor número de asignaturas sin evaluación, mayor probabilidad de abandono.\n",
    "- Este patrón tiene bastante lógica: no asistir a evaluaciones es un claro indicador de desconexión académica, desmotivación o incluso problemas personales/financieros. En la práctica, podría usarse como una señal temprana para detectar riesgo de dropout y activar mecanismos de acompañamiento."
   ]
  },
  {
   "cell_type": "code",
   "execution_count": null,
   "id": "06322199-b977-4227-90bd-42018d80e908",
   "metadata": {},
   "outputs": [],
   "source": [
    "analisis_numerica_target(df_students, \"Unemployment rate\")"
   ]
  },
  {
   "cell_type": "markdown",
   "id": "909a8080-0d4b-49f2-a1ee-48c4a09112ec",
   "metadata": {},
   "source": [
    "### Unemployment rate\n",
    "- Las tasas de desempleo son prácticamente idénticas entre estudiantes que abandonan (11.62%) y graduados (11.64%), con medianas de 11.1% y rangos idénticos (7.6–16.2%).\n",
    "- La desviación estándar es similar para ambos grupos, mostrando poca variabilidad en la muestra.\n",
    "- La correlación con el Target es casi nula (0.004), lo que indica que esta variable no tiene ningún poder predictivo sobre si un estudiante se graduará o abandonará.\n",
    "- Esto nos tiende a indicar que no será importante para el modelo"
   ]
  },
  {
   "cell_type": "code",
   "execution_count": null,
   "id": "cf7d6d0d-92c9-4b09-802d-b112301d6560",
   "metadata": {},
   "outputs": [],
   "source": [
    "analisis_numerica_target(df_students, \"Inflation rate\")"
   ]
  },
  {
   "cell_type": "markdown",
   "id": "c4da5e43-e686-4576-b827-e2a52538a416",
   "metadata": {},
   "source": [
    "### Inflation rate\n",
    "- La inflación media es ligeramente mayor para los estudiantes que abandonan (1.28%) frente a los graduados (1.20%), pero la diferencia es mínima.\n",
    "- Los valores medianos muestran una diferencia mayor (1.4 vs 0.6), pero los rangos son idénticos (-0.8 a 3.7%) y la desviación estándar es similar para ambos grupos.\n",
    "- La correlación con el Target es muy baja (-0.03), indicando que la inflación prácticamente no influye en el éxito académico de los estudiantes."
   ]
  },
  {
   "cell_type": "code",
   "execution_count": null,
   "id": "0bcf6d57-b484-4ec1-ad9e-25d900074401",
   "metadata": {},
   "outputs": [],
   "source": [
    "analisis_numerica_target(df_students, \"GDP\")"
   ]
  },
  {
   "cell_type": "markdown",
   "id": "ae921455-84c5-41e3-a642-6b58d43c30da",
   "metadata": {},
   "source": [
    "### GPD\n",
    "- Los graduados presentan un PIB medio ligeramente positivo (0.08) mientras que los estudiantes que abandonan tienen un PIB medio ligeramente negativo (-0.15), aunque ambos grupos muestran rangos idénticos (-4.06 a 3.51) y desviaciones estándar similares (~2.25).\n",
    "- La correlación con el Target es muy baja (0.05), indicando que el PIB no tiene un efecto relevante sobre la probabilidad de graduarse o abandonar."
   ]
  },
  {
   "cell_type": "markdown",
   "id": "329e7f3b-3b2b-4384-8fd9-fea31f8f8d1b",
   "metadata": {},
   "source": [
    "# 2. PROCESAMIENTO DE DATOS\n",
    "\n",
    "Despues de realizar pruebas respecto a la transformación a numéricas de las variable categóricas. La que ha demostrado obtener mejores resultados en los modelos ha sido convertir todas en dummies. Debido a que no son muchas las variables del dataset, esta no introduce demasiado ruido."
   ]
  },
  {
   "cell_type": "code",
   "execution_count": null,
   "id": "73b08556-e9ea-4720-af72-5351a7d09754",
   "metadata": {},
   "outputs": [],
   "source": [
    "categorical_cols = df_students.select_dtypes(['category', 'object']).columns.drop('Target')\n",
    "df_encoded = pd.get_dummies(df_students, columns=categorical_cols, drop_first=True)"
   ]
  },
  {
   "cell_type": "markdown",
   "id": "72f44ea2-126e-475c-9e88-348d7b0bb8e3",
   "metadata": {},
   "source": [
    "Forma que obtuvo menos score:"
   ]
  },
  {
   "cell_type": "raw",
   "id": "2b1a110c-2020-4f48-b7ab-5d07d8bc3437",
   "metadata": {},
   "source": [
    "df_modelo = df_students.copy()\n",
    "categorical = [\"Marital status\",\"Application mode\",\"Course\"]\n",
    "df_modelo = pd.get_dummies(df_modelo, columns=categorical, drop_first=True)\n",
    "\n",
    "mapping = {\n",
    "    \"choice 0\": 0,\n",
    "    \"choice 1\": 1,\n",
    "    \"choice 2\": 2,\n",
    "    \"choice 3\": 3,\n",
    "    \"choice 4\": 4,\n",
    "    \"choice 5\": 5,\n",
    "    \"choice 6\": 6,\n",
    "    \"choice 7\": 7,\n",
    "    \"choice 8\": 8,\n",
    "    \"choice 9\": 9\n",
    "}\n",
    "\n",
    "df_modelo[\"Application_order_ordinal\"] = df_modelo[\"Application order\"].map(mapping).astype(int)\n",
    "\n",
    "binary_mapping = {\n",
    "    \"Daytime/evening attendance\": {\"daytime\": 1, \"evening\": 0},\n",
    "    \"Displaced\": {\"yes\": 1, \"no\": 0},\n",
    "    \"Debtor\": {\"yes\": 1, \"no\": 0},\n",
    "    \"Tuition fees up to date\": {\"yes\": 1, \"no\": 0},\n",
    "    \"Gender\": {\"female\": 1, \"male\": 0},\n",
    "    \"Scholarship holder\": {\"yes\": 1, \"no\": 0},\n",
    "}\n",
    "\n",
    "for col, mapping in binary_mapping.items():\n",
    "    df_modelo[col + \"_binary\"] = df_modelo[col].map(mapping).astype(int)\n",
    "\n",
    "df_modelo.drop(columns=list(binary_mapping.keys()), inplace=True)\n",
    "\n",
    "df_modelo[\"Target_binary\"] = df_modelo[\"Target\"].map({\"graduate\": 1, \"dropout\": 0}).astype(int)"
   ]
  },
  {
   "cell_type": "code",
   "execution_count": null,
   "id": "43c2d893-d491-48ec-add6-3f2e795849d7",
   "metadata": {},
   "outputs": [],
   "source": [
    "df_engagement = df_encoded.copy()"
   ]
  },
  {
   "cell_type": "code",
   "execution_count": null,
   "id": "d5f43e16-c6e3-4dc3-9acc-496cdc1add04",
   "metadata": {},
   "outputs": [],
   "source": [
    "df_engagement['Target_binary'] = df_engagement['Target'].map({'dropout': 0, 'graduate': 1})\n",
    "df_engagement = df_engagement.drop(['Target'], axis=1)\n",
    "\n",
    "correlations_with_EngagementLevel = df_engagement.corr()['Target_binary'].sort_values(ascending=False)\n",
    "\n",
    "correlation_table = correlations_with_EngagementLevel.to_frame(name='Correlation with EngagementLevel').reset_index()\n",
    "\n",
    "correlation_table.rename(columns={'index': 'Feature'}, inplace=True)\n",
    "\n",
    "display(correlation_table.head(30))"
   ]
  },
  {
   "cell_type": "markdown",
   "id": "bfb2cc85-196f-4138-a36b-aae84578b162",
   "metadata": {},
   "source": [
    "## 2.1 INSIGHTS CLAVE SOBRE LA TARGET\n",
    "#### Correlaciones fuertes\n",
    "- Curricular units 2nd sem (approved) (0.65) y Curricular units 2nd sem (grade) (0.61), junto con Curricular units 1st sem (approved) (0.55) y Curricular units 1st sem (grade) (0.52):\n",
    "- El rendimiento académico en los dos primeros semestres es el predictor más importante de la graduación.\n",
    "Implicación: intervenir en estudiantes con bajas notas o pocas aprobadas desde 1st sem puede reducir el abandono.\n",
    "\n",
    "#### Correlaciones moderadas\n",
    "- Tuition fees up to date_yes (0.44): estar al corriente en pagos se asocia con más probabilidad de graduarse.\n",
    "- Scholarship holder_yes (0.31): los becados muestran mayor retención.\n",
    "\n",
    "#### Correlaciones débiles\n",
    "- Course_Nursing (0.21): algunos cursos, como Nursing, tienen mejores tasas de graduación.\n",
    "- Curricular units 2nd sem (enrolled) (0.18) y Curricular units 1st sem (enrolled) (0.16): mayor número de matrículas indica mayor compromiso.\n",
    "- Variables personales como Displaced_yes (0.13) o Marital status_single (0.12) muestran un impacto pequeño.\n",
    "\n",
    "#### Variables marginales\n",
    "- Father's occupation_Unskilled/Manual, Application order_choice 2/3/4/6, Application mode_Others, GDP, etc. (<0.07): contribuyen muy poco al resultado.\n",
    "\n",
    "#### Conclusión breve:\n",
    "- El éxito en los primeros semestres y la situación financiera (pagos y becas) son los predictores más potentes de la graduación. Factores sociodemográficos y de acceso al curso apenas añaden valor."
   ]
  },
  {
   "cell_type": "code",
   "execution_count": null,
   "id": "9dcf3c2c-3ed1-44da-a0eb-6f4e765008b6",
   "metadata": {},
   "outputs": [],
   "source": [
    "correlations = df_engagement.corr()['Target_binary'].abs().sort_values(ascending=False)\n",
    "\n",
    "top30_features = correlations.drop('Target_binary').head(12).index\n",
    "\n",
    "engagement_top30 = df_engagement[top30_features].join(df_engagement['Target_binary'])\n",
    "engagement_correlation_top30 = engagement_top30.groupby('Target_binary').mean().T\n",
    "\n",
    "plt.figure(figsize=(12, 10))\n",
    "sns.heatmap(\n",
    "    engagement_correlation_top30, \n",
    "    annot=True, \n",
    "    cmap='YlGnBu_r', \n",
    "    fmt='.2f', \n",
    "    linewidths=0.5, \n",
    "    cbar_kws={\"shrink\": 1}\n",
    ")\n",
    "plt.title('Top 12 Feature Interaction with Engagement Level')\n",
    "plt.ylabel('Features')\n",
    "plt.xlabel('Engagement Level')\n",
    "plt.tight_layout()\n",
    "plt.show()"
   ]
  },
  {
   "cell_type": "markdown",
   "id": "8f02f174-67c3-4939-a8bc-ea44553f4796",
   "metadata": {},
   "source": [
    "# 3. ENTRENAMIENTO DEL MODELO Y EVALUACION"
   ]
  },
  {
   "cell_type": "markdown",
   "id": "9273712e-9f49-4052-9cc3-e0b9a639842e",
   "metadata": {},
   "source": [
    "Dividimos el dataset en train y test"
   ]
  },
  {
   "cell_type": "code",
   "execution_count": null,
   "id": "c566ac30-d652-4b21-b7c9-904ec0be30e0",
   "metadata": {},
   "outputs": [],
   "source": [
    "X = df_encoded.drop(['Target'], axis=1)\n",
    "y = df_encoded['Target']\n",
    "\n",
    "X_train, X_test, y_train, y_test = train_test_split(\n",
    "    X, y, test_size=0.2, random_state=42, stratify=y\n",
    ")"
   ]
  },
  {
   "cell_type": "markdown",
   "id": "ab0658c0-0a2f-4eab-ba09-ac474d84aeda",
   "metadata": {},
   "source": [
    "Definimos los modelos"
   ]
  },
  {
   "cell_type": "code",
   "execution_count": null,
   "id": "265342df-c78e-487e-8baf-c7e0e919a9c8",
   "metadata": {},
   "outputs": [],
   "source": [
    "modelos = {\n",
    "    \"Random Forest\": RandomForestClassifier(n_estimators=100, random_state=42),\n",
    "    \"Logistic Regression\": LogisticRegression(max_iter=1000, random_state=42),\n",
    "    \"Gradient Boosting\": GradientBoostingClassifier(n_estimators=100, random_state=42),\n",
    "    \"KNN\": KNeighborsClassifier(n_neighbors=5)\n",
    "}"
   ]
  },
  {
   "cell_type": "markdown",
   "id": "12dc75ff-d151-4af2-b298-a90c1fd5151d",
   "metadata": {},
   "source": [
    "Entrenamos y evaluamos "
   ]
  },
  {
   "cell_type": "code",
   "execution_count": null,
   "id": "d2f50e71-d719-4a63-8721-68bb9edf0074",
   "metadata": {},
   "outputs": [],
   "source": [
    "resultados = {}\n",
    "\n",
    "for nombre, modelo in modelos.items():\n",
    "    modelo.fit(X_train, y_train)\n",
    "    y_pred = modelo.predict(X_test)\n",
    "    \n",
    "    print(f\"\\n=== {nombre} ===\")\n",
    "    \n",
    "    cm = confusion_matrix(y_test, y_pred)\n",
    "    print(\"Matriz de confusión:\")\n",
    "    print(cm)\n",
    "    \n",
    "    print(\"\\nReporte:\")\n",
    "    print(classification_report(y_test, y_pred))\n",
    "    \n",
    "    plt.figure(figsize=(6,4))\n",
    "    sns.heatmap(cm, annot=True, fmt=\"d\", cmap=\"YlGnBu\",\n",
    "                xticklabels=y.unique(), \n",
    "                yticklabels=y.unique())\n",
    "    plt.title(f\"Matriz de confusión - {nombre}\")\n",
    "    plt.xlabel(\"Predicción\")\n",
    "    plt.ylabel(\"True\")\n",
    "    plt.show()"
   ]
  },
  {
   "cell_type": "markdown",
   "id": "e53d076a-68cc-426d-92e5-572bb42049e3",
   "metadata": {},
   "source": [
    "En este punto se identificó que los modelos con mejor rendimiento global eran Logistic Regression y Random Forest, ambos alcanzando un 92% de accuracy. Antes de seleccionar el modelo definitivo para su productivización, se consideró oportuno realizar un proceso de simplificación del dataset. El objetivo es doble: por un lado, facilitar la interpretabilidad y usabilidad del modelo en un entorno real (reducir el número de variables que deben introducirse en la aplicación); por otro, evaluar si la eliminación de variables poco relevantes puede contribuir a mejorar o mantener el rendimiento de los modelos."
   ]
  },
  {
   "cell_type": "markdown",
   "id": "8d39f8dd-9bb9-4bdd-8850-4647a2372c00",
   "metadata": {},
   "source": [
    "## 3.1 IMPORTANCIAS DE LAS VARIABLES\n",
    "\n",
    "Vamos a utilizar la importancia en los modelos de las variables para tratar de reducir las dimensionalidades del modelo al minimo"
   ]
  },
  {
   "cell_type": "code",
   "execution_count": null,
   "id": "8595e409-a346-4b88-8b8d-89d0d0d234c0",
   "metadata": {},
   "outputs": [],
   "source": [
    "rf = modelos[\"Random Forest\"]\n",
    "rf.fit(X_train, y_train)\n",
    "\n",
    "importances = rf.feature_importances_\n",
    "features = X_train.columns\n",
    "feat_imp_df = pd.DataFrame({'Feature': features, 'Importance': importances})\n",
    "feat_imp_df = feat_imp_df.sort_values(by='Importance', ascending=False)\n",
    "\n",
    "# Mostrar top 10\n",
    "print(\"Top 10 features Random Forest:\")\n",
    "print(feat_imp_df.tail(80))\n",
    "\n",
    "# Gráfico\n",
    "plt.figure(figsize=(8,6))\n",
    "sns.barplot(x=\"Importance\", y=\"Feature\", data=feat_imp_df.tail(20))\n",
    "plt.title(\"Top 10 Features - Random Forest\")\n",
    "plt.show()"
   ]
  },
  {
   "cell_type": "code",
   "execution_count": null,
   "id": "b0323859-cf17-496f-b0cf-acb45c2c224e",
   "metadata": {},
   "outputs": [],
   "source": [
    "lr = modelos[\"Logistic Regression\"]\n",
    "\n",
    "lr.fit(X_train, y_train)\n",
    "\n",
    "coef = lr.coef_[0]  #\n",
    "\n",
    "import numpy as np\n",
    "abs_coef = np.abs(coef)\n",
    "\n",
    "import pandas as pd\n",
    "feat_coef_df = pd.DataFrame({\n",
    "    'Feature': X_train.columns,\n",
    "    'Coefficient': coef,\n",
    "    'AbsCoefficient': abs_coef\n",
    "})\n",
    "\n",
    "feat_coef_df = feat_coef_df.sort_values(by='AbsCoefficient', ascending=False)\n",
    "\n",
    "print(\"Top 10 variables más importantes - Logistic Regression:\")\n",
    "print(feat_coef_df.tail(80))"
   ]
  },
  {
   "cell_type": "code",
   "execution_count": null,
   "id": "1ddfc551-3af8-49e4-acbd-28b7bc991383",
   "metadata": {},
   "outputs": [],
   "source": [
    "# Ordenar de mayor a menor importancia\n",
    "feat_imp_df_sorted = feat_imp_df.sort_values(by='Importance', ascending=False)\n",
    "\n",
    "pd.set_option('display.max_rows', None)  # Mostrar todas las filas\n",
    "feat_imp_df_sorted"
   ]
  },
  {
   "cell_type": "markdown",
   "id": "373d0bbf-77db-4599-9670-f415419f13ee",
   "metadata": {},
   "source": [
    "#### 1. Justificación para la primera tanda de DROPS\n",
    "- Las variables eliminadas en esta primera fase se descartaron principalmente por baja relevancia en la predicción del modelo.\n",
    "- Las categorías de estado civil (Marital status) mostraban coeficientes cercanos a cero en Logistic Regression y mínima importancia en Random Forest, indicando que su contribución a la predicción de dropout o graduate es prácticamente nula.\n",
    "- Las opciones de Application order_choice y Previous qualification con baja representación o poca relevancia no aportaban información significativa al modelo.\n",
    "- Algunos cursos y asistencia diurna/nocturna presentaban importancia muy residual según Random Forest, por lo que eliminarlas simplifica el dataset sin afectar el rendimiento.\n",
    "En conjunto, esta limpieza inicial permitió reducir el número de variables irrelevantes, facilitando la interpretabilidad y agilizando la fase de modelización."
   ]
  },
  {
   "cell_type": "code",
   "execution_count": null,
   "id": "94099067-ea86-4efd-9db0-9e8c43c5d3fd",
   "metadata": {},
   "outputs": [],
   "source": [
    "# Lista de columnas a eliminar\n",
    "cols_to_drop = [\n",
    "    # Marital status\n",
    "    'Marital status_facto union', 'Marital status_legally separated',\n",
    "    'Marital status_married', 'Marital status_single', 'Marital status_widow',\n",
    "    # Application order_choice bajas\n",
    "    'Application order_choice 5', 'Application order_choice 9',\n",
    "    # Previous qualification bajas\n",
    "    'Previous qualification_Secondary', 'Previous qualification_Higher',\n",
    "    'Previous qualification_Other/Spec',\n",
    "    # Cursos poco relevantes\n",
    "    'Course_Biofuel Production Technologies', 'Course_Oral Hygiene',\n",
    "    'Course_Agronomy', 'Course_Social Service (evening attendance)',\n",
    "    # Daytime/evening attendance\n",
    "    'Daytime/evening attendance_evening'\n",
    "]\n",
    "\n",
    "df_encoded_2 = df_encoded.copy()\n",
    "\n",
    "df_encoded_2.drop(columns=cols_to_drop, inplace=True)"
   ]
  },
  {
   "cell_type": "code",
   "execution_count": null,
   "id": "f8c8e609-10e1-4260-b191-d00deca7274a",
   "metadata": {},
   "outputs": [],
   "source": [
    "X = df_encoded_2.drop(['Target'], axis=1)\n",
    "y = df_encoded_2['Target']\n",
    "\n",
    "X_train, X_test, y_train, y_test = train_test_split(\n",
    "    X, y, test_size=0.2, random_state=42, stratify=y\n",
    ")\n",
    "\n",
    "modelos = {\n",
    "    \"Random Forest\": RandomForestClassifier(n_estimators=100, random_state=42),\n",
    "    \"Logistic Regression\": LogisticRegression(max_iter=1000, random_state=42),\n",
    "}\n",
    "\n",
    "resultados = {}\n",
    "\n",
    "for nombre, modelo in modelos.items():\n",
    "    modelo.fit(X_train, y_train)\n",
    "    y_pred = modelo.predict(X_test)\n",
    "    \n",
    "    print(f\"\\n=== {nombre} ===\")\n",
    "    \n",
    "    cm = confusion_matrix(y_test, y_pred)\n",
    "    print(\"Matriz de confusión:\")\n",
    "    print(cm)\n",
    "    \n",
    "    print(\"\\nReporte:\")\n",
    "    print(classification_report(y_test, y_pred))\n",
    "    \n",
    "    plt.figure(figsize=(6,4))\n",
    "    sns.heatmap(cm, annot=True, fmt=\"d\", cmap=\"YlGnBu\",\n",
    "                xticklabels=y.unique(), \n",
    "                yticklabels=y.unique())\n",
    "    plt.title(f\"Matriz de confusión - {nombre}\")\n",
    "    plt.xlabel(\"Predicción\")\n",
    "    plt.ylabel(\"True\")\n",
    "    plt.show()"
   ]
  },
  {
   "cell_type": "markdown",
   "id": "1fd9952d-5597-44b5-9f10-004d0b2ef9e2",
   "metadata": {},
   "source": [
    "#### 2. Justificación para la segunda y definitiva tanda (cols_to_drop_more)\n",
    "- En esta segunda fase, se aplicó un filtrado más exhaustivo y sistemático para eliminar familias completas de variables categóricas que mostraban importancia residual muy baja (<0.01) en Random Forest y coeficientes casi nulos en Logistic Regression.\n",
    "- Se eliminaron todos los cursos con baja relevancia, todas las opciones de Application order_choice y Application mode poco significativas, así como todas las categorías de Marital status y algunas ocupaciones/estudios de padres/madres irrelevantes.\n",
    "- También se descartaron otras variables marginales como Displaced_yes o Daytime/evening attendance_evening.\n",
    "Esta reducción asegura un dataset más compacto y manejable, mantiene la performance del modelo prácticamente intacta y mejora la interpretabilidad, lo que facilita la explicación de resultados a negocio y la productivización en una ap"
   ]
  },
  {
   "cell_type": "code",
   "execution_count": null,
   "id": "ce185097-370b-4987-8843-1cba01bf7637",
   "metadata": {},
   "outputs": [],
   "source": [
    "cols_to_drop_more = [\n",
    "    # Cursos con importancia residual\n",
    "    'Course_Animation and Multimedia Design', 'Course_Basic Education',\n",
    "    'Course_Equiniculture', 'Course_Informatics Engineering', 'Course_Journalism and Communication',\n",
    "    'Course_Management', 'Course_Management (evening attendance)',\n",
    "    'Course_Nursing', 'Course_Oral Hygiene', 'Course_Social Service',\n",
    "    'Course_Tourism', 'Course_Veterinary Nursing', 'Course_Communication Design',\n",
    "    'Course_Agronomy', 'Course_Biofuel Production Technologies', 'Course_Social Service (evening attendance)',\n",
    "    \n",
    "    # Application order_choice bajas\n",
    "    'Application order_choice 1', 'Application order_choice 2', 'Application order_choice 3',\n",
    "    'Application order_choice 4', 'Application order_choice 5', 'Application order_choice 6',\n",
    "    'Application order_choice 9',\n",
    "    \n",
    "    # Application mode bajas\n",
    "    'Application mode_Others', 'Application mode_2nd phase - general contingent',\n",
    "    'Application mode_3rd phase - general contingent', 'Application mode_Change of course',\n",
    "    'Application mode_Change of institution/course', 'Application mode_Holders of other higher courses',\n",
    "    'Application mode_Over 23 years old', 'Application mode_Technological specialization diploma holders',\n",
    "    'Application mode_Transfer',\n",
    "    \n",
    "    # Familia Marital status (todas)\n",
    "    'Marital status_facto union', 'Marital status_legally separated',\n",
    "    'Marital status_married', 'Marital status_single', 'Marital status_widow',\n",
    "    \n",
    "    # Familias de padres/madres poco relevantes\n",
    "    'Mother\\'s occupation_Other/Unknown', 'Mother\\'s occupation_Specialized/Prof', 'Mother\\'s occupation_Unskilled/Manual',\n",
    "    'Father\\'s occupation_Armed Forces', 'Father\\'s occupation_Other/Unknown', 'Father\\'s occupation_Specialized/Prof',\n",
    "    'Father\\'s occupation_Unskilled/Manual',\n",
    "    'Mother\\'s qualification_Other/Unknown', 'Mother\\'s qualification_Secondary',\n",
    "    'Father\\'s qualification_Higher', 'Father\\'s qualification_Secondary', 'Father\\'s qualification_Unknown/Other',\n",
    "    \n",
    "    # Otros\n",
    "    'Displaced_yes', 'Daytime/evening attendance_evening',\n",
    "    # Variables macroeconómicas (impacto marginal)\n",
    "    'Unemployment rate', 'Inflation rate', 'GDP'\n",
    "]\n",
    "\n",
    "df_encoded_3 = df_encoded_2.drop(columns=cols_to_drop_more, errors='ignore')"
   ]
  },
  {
   "cell_type": "markdown",
   "id": "d007138c-74b2-4db8-a1a2-d105d875823b",
   "metadata": {},
   "source": [
    "## 3.2 MODELO DEFINITIVO"
   ]
  },
  {
   "cell_type": "code",
   "execution_count": null,
   "id": "54ab497b-fe3f-4d9e-9b06-256b3a6fe45b",
   "metadata": {},
   "outputs": [],
   "source": [
    "X = df_encoded_3.drop(['Target'], axis=1)\n",
    "y = df_encoded_3['Target']\n",
    "\n",
    "X_train, X_test, y_train, y_test = train_test_split(\n",
    "    X, y, test_size=0.2, random_state=42, stratify=y\n",
    ")\n",
    "\n",
    "modelos = {\n",
    "    \"Random Forest\": RandomForestClassifier(n_estimators=100, random_state=42),\n",
    "    \"Logistic Regression\": LogisticRegression(max_iter=1000, random_state=42),\n",
    "}\n",
    "\n",
    "resultados = {}\n",
    "\n",
    "for nombre, modelo in modelos.items():\n",
    "    modelo.fit(X_train, y_train)\n",
    "    y_pred = modelo.predict(X_test)\n",
    "    \n",
    "    print(f\"\\n=== {nombre} ===\")\n",
    "    \n",
    "    cm = confusion_matrix(y_test, y_pred)\n",
    "    print(\"Matriz de confusión:\")\n",
    "    print(cm)\n",
    "    \n",
    "    print(\"\\nReporte:\")\n",
    "    print(classification_report(y_test, y_pred))\n",
    "    \n",
    "    plt.figure(figsize=(6,4))\n",
    "    sns.heatmap(cm, annot=True, fmt=\"d\", cmap=\"YlGnBu\",\n",
    "                xticklabels=y.unique(), \n",
    "                yticklabels=y.unique())\n",
    "    plt.title(f\"Matriz de confusión - {nombre}\")\n",
    "    plt.xlabel(\"Predicción\")\n",
    "    plt.ylabel(\"True\")\n",
    "    plt.show()"
   ]
  },
  {
   "cell_type": "markdown",
   "id": "c2e2cefd-491f-4787-9ffd-30729359c1c1",
   "metadata": {},
   "source": [
    "## 3.3 MODELOS DESCARTADOS\n",
    "En la primera fase de experimentación, antes de la depuración de variables, se evaluaron cuatro algoritmos: Random Forest, Logistic Regression, Gradient Boosting y KNN. Tras una primera revisión de resultados, se decidió descartar Gradient Boosting y KNN por las siguientes razones:\n",
    "\n",
    "- Gradient Boosting:\n",
    "Aunque obtuvo un rendimiento aceptable (accuracy ≈ 90%), mostró un recall más bajo para la clase dropout (0.82), lo cual es crítico dado que el objetivo principal es identificar estudiantes en riesgo de abandono. Además, el modelo es más complejo de interpretar y ajustar respecto a Random Forest y Logistic Regression, lo que no justificaba su inclusión como candidato final.\n",
    "\n",
    "- KNN (K-Nearest Neighbors):\n",
    "Presentó el rendimiento más bajo entre los cuatro modelos (accuracy ≈ 87%) y un recall especialmente reducido en la clase dropout (0.74), lo que significa que dejó de identificar una proporción significativa de abandonos reales. Además, KNN tiende a escalar mal con grandes volúmenes de datos y carece de interpretabilidad en comparación con los modelos restantes.\n",
    "\n",
    "Tras la depuración final de variables, se repitió la comparación entre los modelos candidatos (Random Forest y Logistic Regression). Ambos mantuvieron un rendimiento muy similar en términos globales (accuracy ≈ 92%), pero se decidió descartar Random Forest y continuar únicamente con Logistic Regression por las siguientes razones:\n",
    "\n",
    "- Precisión global: Logistic Regression mantuvo una accuracy del 92%, muy similar a Random Forest, pero con métricas de equilibrio ligeramente más consistentes entre ambas clases.\n",
    "- Balance entre clases: Logistic Regression alcanzó un recall superior en la clase dropout (0.85 vs 0.83). Dado que el objetivo principal del trabajo es identificar estudiantes en riesgo de abandono, esta métrica tiene un peso clave en la decisión.\n",
    "- Interpretabilidad: Logistic Regression permite interpretar directamente los coeficientes de las variables y cuantificar su impacto en la probabilidad de abandono o graduación. Random Forest, aunque robusto, requiere técnicas adicionales (importancias de variables, SHAP values) que dificultan la comunicación de los resultados a responsables académicos o institucionales."
   ]
  },
  {
   "cell_type": "code",
   "execution_count": null,
   "id": "3dd42b7a-ad55-421a-ac00-733df4c71a8a",
   "metadata": {},
   "outputs": [],
   "source": [
    "lr = modelos[\"Logistic Regression\"]\n",
    "lr.fit(X_train, y_train)\n",
    "\n",
    "coef = lr.coef_[0]\n",
    "abs_coef = np.abs(coef)\n",
    "\n",
    "feat_coef_df = pd.DataFrame({\n",
    "    \"Feature\": X_train.columns,\n",
    "    \"Coefficient\": coef,\n",
    "    \"AbsCoefficient\": abs_coef,\n",
    "    \"OddsRatio\": np.exp(coef)  \n",
    "})\n",
    "\n",
    "feat_coef_df = feat_coef_df.sort_values(by=\"AbsCoefficient\", ascending=False)\n",
    "\n",
    "pd.set_option(\"display.max_rows\", None)   # opcional, para ver todas\n",
    "pd.set_option(\"display.float_format\", lambda x: f\"{x:.4f}\")  # formato bonito\n",
    "\n",
    "feat_coef_df.head(30)"
   ]
  },
  {
   "cell_type": "markdown",
   "id": "ac6e1fc1-505d-4720-8468-d686d57cd198",
   "metadata": {},
   "source": [
    "# 4. Principales insights\n",
    "\n",
    "1. Estado financiero → factor crítico\n",
    "- Tuition fees up to date_yes (coef 2.296, OR ≈ 9.93):\n",
    "  Los estudiantes con tasas pagadas al día tienen 10 veces más probabilidad de graduarse.\n",
    "- Debtor_yes (coef -1.023, OR ≈ 0.36):\n",
    "Tener deudas reduce la probabilidad de graduación a un 36% respecto a los no deudores.\n",
    "👉 Insight: la gestión de pagos y la deuda son los predictores más fuertes del abandono.\n",
    "\n",
    "2. Rendimiento académico temprano importa muchísimo\n",
    "\n",
    "- Curricular units 2nd sem (approved) (coef 1.062, OR ≈ 2.89):\n",
    "Aprobar asignaturas en el 2º semestre casi triplica la probabilidad de graduación.\n",
    "- Curricular units 1st sem (approved) (coef 0.628, OR ≈ 1.87):\n",
    "Aprobar en el 1º semestre casi duplica la probabilidad.\n",
    "- En cambio, Curricular units 2nd sem (enrolled) (coef -0.892, OR ≈ 0.41):\n",
    "Estar matriculado en muchas asignaturas sin aprobarlas reduce fuertemente la probabilidad de graduarse.\n",
    "👉 Insight: lo que el estudiante haga en los dos primeros semestres (aprobar vs. solo matricularse) es determinante para su éxito.\n",
    "\n",
    "3. Apoyo económico externo como factor protector\n",
    "- Scholarship holder_yes (coef 0.727, OR ≈ 2.07):\n",
    "Ser becario duplica las probabilidades de graduación.\n",
    "👉 Insight: las becas no solo apoyan económicamente, sino que se asocian a una mayor retención.\n",
    "\n",
    "4. Variables sociodemográficas\n",
    "- Gender_male (coef -0.355, OR ≈ 0.70):\n",
    "Ser hombre reduce en un 30% la probabilidad de graduación frente a mujeres.\n",
    "- Age at enrollment (coef -0.015, OR ≈ 0.98 por año):\n",
    "Los estudiantes de mayor edad tienen una ligera pero consistente menor probabilidad de graduación.\n",
    "\n",
    "👉 Insight: perfiles de mayor riesgo → hombres y mayores de edad en el ingreso.\n",
    "\n",
    "5. Notas y evaluaciones tienen menor peso\n",
    "- 1st sem (grade) (coef -0.114, OR ≈ 0.89) y 2nd sem (grade) (coef 0.081, OR ≈ 1.08):\n",
    "Las calificaciones tienen efecto, pero mucho más débil que los aprobados/inscritos.\n",
    "- Evaluations (coef cercanos a 0): apenas influyen.\n",
    "\n",
    "👉 Insight: no basta con presentarse a exámenes → lo que realmente marca la diferencia es aprobar y avanzar."
   ]
  },
  {
   "cell_type": "markdown",
   "id": "064277bf-2c30-4656-90b1-08b429390bed",
   "metadata": {},
   "source": [
    "# 5 PRODUCTIVIZACIÓN MODELO"
   ]
  },
  {
   "cell_type": "code",
   "execution_count": null,
   "id": "401e5e1d-b3b4-428a-bf67-8664b7e1b07f",
   "metadata": {},
   "outputs": [],
   "source": [
    "logistic_model = LogisticRegression(max_iter=1000, random_state=42)\n",
    "\n",
    "logistic_model.fit(X_train, y_train)\n",
    "\n",
    "joblib.dump(logistic_model, \"modelo_logistic.pkl\")"
   ]
  },
  {
   "cell_type": "code",
   "execution_count": null,
   "id": "c2dc0619-9510-4c86-bed1-71b7b17aa06a",
   "metadata": {},
   "outputs": [],
   "source": [
    "df_students.to_csv(\"df_students.csv\", index=False)"
   ]
  },
  {
   "cell_type": "markdown",
   "id": "c65e1e47-f01d-4802-bf8b-378596376714",
   "metadata": {
    "jp-MarkdownHeadingCollapsed": true
   },
   "source": [
    "# RESTO DE INTENTOS CADUCOS"
   ]
  },
  {
   "cell_type": "raw",
   "id": "7aa32b29-6ebf-4e44-89e7-935d87e0d45b",
   "metadata": {},
   "source": [
    "# Seleccionar columnas que contienen 'Course' o 'occupation' de padres/madres\n",
    "cols_to_drop = [col for col in df_encoded.columns if \n",
    "                col.startswith(\"Course_\") or \n",
    "                col.startswith(\"Mother's occupation_\") or \n",
    "                col.startswith(\"Father's occupation_\")]\n",
    "\n",
    "# Eliminar esas columnas\n",
    "df_encoded = df_encoded.drop(columns=cols_to_drop)\n",
    "\n",
    "# Comprobar\n",
    "df_encoded.info()\n"
   ]
  },
  {
   "cell_type": "raw",
   "id": "8f0f143b-7620-4292-8d06-8e3a2f01303b",
   "metadata": {},
   "source": [
    "# Seleccionar columnas a eliminar: Application mode y Application order\n",
    "cols_to_drop = [col for col in df_encoded.columns if \n",
    "                col.startswith(\"Application mode_\") or \n",
    "                col.startswith(\"Application order_\")]\n",
    "\n",
    "# Eliminar esas columnas\n",
    "df_encoded = df_encoded.drop(columns=cols_to_drop)\n",
    "\n",
    "# Comprobar\n",
    "df_encoded.info()\n"
   ]
  },
  {
   "cell_type": "raw",
   "id": "b26dfd3a-9670-4ade-b595-f47de53da80e",
   "metadata": {},
   "source": [
    "\n",
    "# Suponiendo que df_modelo tiene la transformación One-Hot completa\n",
    "X = df_encoded.drop(['Target'], axis=1)\n",
    "y = df_encoded['Target']\n",
    "\n",
    "# Dividir en train/test\n",
    "X_train, X_test, y_train, y_test = train_test_split(\n",
    "    X, y, test_size=0.2, random_state=42, stratify=y\n",
    ")\n",
    "\n",
    "# --------------------------\n",
    "# 2. Definir modelos\n",
    "# --------------------------\n",
    "modelos = {\n",
    "    \"Random Forest\": RandomForestClassifier(n_estimators=100, random_state=42),\n",
    "    \"Logistic Regression\": LogisticRegression(max_iter=1000, random_state=42),\n",
    "    \"Gradient Boosting\": GradientBoostingClassifier(n_estimators=100, random_state=42),\n",
    "    \"KNN\": KNeighborsClassifier(n_neighbors=5)\n",
    "}\n",
    "\n",
    "# --------------------------\n",
    "# 3. Entrenar y evaluar\n",
    "# --------------------------\n",
    "resultados = {}\n",
    "\n",
    "for nombre, modelo in modelos.items():\n",
    "    modelo.fit(X_train, y_train)\n",
    "    y_pred = modelo.predict(X_test)\n",
    "    print(f\"\\n=== {nombre} ===\")\n",
    "    print(\"Confusion Matrix:\")\n",
    "    print(confusion_matrix(y_test, y_pred))\n",
    "    print(\"\\nClassification Report:\")\n",
    "    print(classification_report(y_test, y_pred))"
   ]
  },
  {
   "cell_type": "raw",
   "id": "7d9332df-61cc-490f-be35-4caa6b2cc4db",
   "metadata": {},
   "source": [
    "# ==========================\n",
    "# CELDA 7: Feature Importances\n",
    "# ==========================\n",
    "importances = rf.feature_importances_\n",
    "features = X_train.columns\n",
    "feat_imp_df = pd.DataFrame({'Feature': features, 'Importance': importances})\n",
    "feat_imp_df = feat_imp_df.sort_values(by='Importance', ascending=False)\n",
    "\n",
    "# Mostrar las 20 variables más importantes\n",
    "plt.figure(figsize=(10,8))\n",
    "plt.barh(feat_imp_df['Feature'][:20][::-1], feat_imp_df['Importance'][:20][::-1])\n",
    "plt.xlabel('Feature Importance')\n",
    "plt.title('Top 20 Features')\n",
    "plt.show()\n",
    "\n",
    "# Opcional: ver el dataframe completo de importancias\n",
    "display(feat_imp_df.tail(30))"
   ]
  },
  {
   "cell_type": "raw",
   "id": "4e832b80-39db-4fbc-807c-3d2ff6e8f945",
   "metadata": {},
   "source": [
    "# Copia del dataframe original\n",
    "df_clean = df_students.copy()\n",
    "\n",
    "# Lista de columnas a dropear (puedes ajustarla según prefieras mantener Approved o Grade, y semestre 1 o 2)\n",
    "cols_to_drop = [\n",
    "    # Credited (redundante con enrolled)\n",
    "    \"Curricular units 1st sem (credited)\",\n",
    "    \"Curricular units 2nd sem (credited)\",\n",
    "\n",
    "    # Evaluations (redundante con enrolled)\n",
    "    \"Curricular units 1st sem (evaluations)\",\n",
    "    \"Curricular units 2nd sem (evaluations)\",\n",
    "\n",
    "    # Grade (si decides quedarte con Approved)\n",
    "    \"Curricular units 1st sem (grade)\",\n",
    "    \"Curricular units 2nd sem (grade)\",\n",
    "\n",
    "    # 🔹 Opcional: elimina un semestre completo para evitar duplicidad\n",
    "    # → Aquí elimino 2º semestre, puedes cambiar a 1º si prefieres\n",
    "    \"Curricular units 2nd sem (enrolled)\",\n",
    "    \"Curricular units 2nd sem (approved)\",\n",
    "    \"Curricular units 2nd sem (without evaluations)\"\n",
    "]\n",
    "\n",
    "# Dropear columnas\n",
    "df_clean = df_clean.drop(columns=cols_to_drop, errors=\"ignore\")\n",
    "\n",
    "print(\"Columnas después del drop:\")\n",
    "print(df_clean.columns)\n"
   ]
  },
  {
   "cell_type": "raw",
   "id": "55f73640-4222-4136-b477-986c8f5e9b8c",
   "metadata": {},
   "source": [
    "# ==========================\n",
    "# CELDA 1: Importar librerías\n",
    "# ==========================\n",
    "import pandas as pd\n",
    "import numpy as np\n",
    "from sklearn.model_selection import train_test_split\n",
    "from sklearn.ensemble import RandomForestClassifier\n",
    "from sklearn.metrics import classification_report, confusion_matrix\n",
    "import seaborn as sns\n",
    "import matplotlib.pyplot as plt\n",
    "\n",
    "# ==========================\n",
    "# CELDA 2: Cargar dataset\n",
    "# ==========================\n",
    "# df_students = pd.read_csv(\"ruta_a_tu_dataset.csv\")\n",
    "# Para notebook en Colab/Kaggle, ajusta la ruta según corresponda\n",
    "\n",
    "# ==========================\n",
    "# CELDA 3: One-Hot Encoding de variables categóricas\n",
    "# ==========================\n",
    "categorical_cols = df_clean.select_dtypes(['category', 'object']).columns.drop('Target')\n",
    "df_encoded = pd.get_dummies(df_clean, columns=categorical_cols, drop_first=True)\n",
    "\n",
    "# Separar target\n",
    "X = df_encoded.drop('Target', axis=1)\n",
    "y = df_encoded['Target']\n",
    "\n",
    "# ==========================\n",
    "# CELDA 4: Dividir en train/test\n",
    "# ==========================\n",
    "X_train, X_test, y_train, y_test = train_test_split(\n",
    "    X, y, test_size=0.2, random_state=42, stratify=y\n",
    ")\n",
    "\n",
    "# ==========================\n",
    "# CELDA 5: Entrenar Random Forest\n",
    "# ==========================\n",
    "rf = RandomForestClassifier(n_estimators=100, random_state=42)\n",
    "rf.fit(X_train, y_train)\n",
    "\n",
    "# ==========================\n",
    "# CELDA 6: Evaluar modelo\n",
    "# ==========================\n",
    "y_pred = rf.predict(X_test)\n",
    "\n",
    "print(\"Confusion Matrix:\")\n",
    "print(confusion_matrix(y_test, y_pred))\n",
    "print(\"\\nClassification Report:\")\n",
    "print(classification_report(y_test, y_pred))"
   ]
  },
  {
   "cell_type": "raw",
   "id": "ddc8ec3d-055e-42c2-ac39-f212b31f98b2",
   "metadata": {},
   "source": [
    "df_modelo = df_students.copy()\n",
    "categorical = [\"Marital status\",\"Application mode\",\"Course\"]\n",
    "df_modelo = pd.get_dummies(df_modelo, columns=categorical, drop_first=True)\n",
    "\n",
    "mapping = {\n",
    "    \"choice 0\": 0,\n",
    "    \"choice 1\": 1,\n",
    "    \"choice 2\": 2,\n",
    "    \"choice 3\": 3,\n",
    "    \"choice 4\": 4,\n",
    "    \"choice 5\": 5,\n",
    "    \"choice 6\": 6,\n",
    "    \"choice 7\": 7,\n",
    "    \"choice 8\": 8,\n",
    "    \"choice 9\": 9\n",
    "}\n",
    "\n",
    "df_modelo[\"Application_order_ordinal\"] = df_modelo[\"Application order\"].map(mapping).astype(int)\n",
    "\n",
    "binary_mapping = {\n",
    "    \"Daytime/evening attendance\": {\"daytime\": 1, \"evening\": 0},\n",
    "    \"Displaced\": {\"yes\": 1, \"no\": 0},\n",
    "    \"Debtor\": {\"yes\": 1, \"no\": 0},\n",
    "    \"Tuition fees up to date\": {\"yes\": 1, \"no\": 0},\n",
    "    \"Gender\": {\"female\": 1, \"male\": 0},\n",
    "    \"Scholarship holder\": {\"yes\": 1, \"no\": 0},\n",
    "}\n",
    "\n",
    "# Aplicar el mapeo\n",
    "for col, mapping in binary_mapping.items():\n",
    "    df_modelo[col + \"_binary\"] = df_modelo[col].map(mapping).astype(int)\n",
    "\n",
    "df_modelo.drop(columns=list(binary_mapping.keys()), inplace=True)\n",
    "\n",
    "# Mapear la columna Target a 0/1\n",
    "df_modelo[\"Target_binary\"] = df_modelo[\"Target\"].map({\"graduate\": 1, \"dropout\": 0}).astype(int)\n",
    "\n",
    "# Seleccionar todas las columnas categóricas (tipo object o category)\n",
    "categorical_cols = df_modelo.select_dtypes(include=[\"object\", \"category\"]).columns\n",
    "df_modelo = df_modelo.drop(columns=categorical_cols)\n",
    "\n",
    "\n",
    "# Suponiendo que df_modelo tiene la transformación One-Hot completa\n",
    "X = df_modelo.drop(['Target_binary'], axis=1)\n",
    "y = df_modelo['Target_binary']\n",
    "\n",
    "# Dividir en train/test\n",
    "X_train, X_test, y_train, y_test = train_test_split(\n",
    "    X, y, test_size=0.2, random_state=42, stratify=y\n",
    ")\n",
    "\n",
    "# --------------------------\n",
    "# 2. Definir modelos\n",
    "# --------------------------\n",
    "modelos = {\n",
    "    \"Random Forest\": RandomForestClassifier(n_estimators=100, random_state=42),\n",
    "    \"Logistic Regression\": LogisticRegression(max_iter=1000, random_state=42),\n",
    "    \"Gradient Boosting\": GradientBoostingClassifier(n_estimators=100, random_state=42),\n",
    "    \"KNN\": KNeighborsClassifier(n_neighbors=5)\n",
    "}\n",
    "\n",
    "# --------------------------\n",
    "# 3. Entrenar y evaluar\n",
    "# --------------------------\n",
    "resultados = {}\n",
    "\n",
    "for nombre, modelo in modelos.items():\n",
    "    modelo.fit(X_train, y_train)\n",
    "    y_pred = modelo.predict(X_test)\n",
    "    print(f\"\\n=== {nombre} ===\")\n",
    "    print(\"Confusion Matrix:\")\n",
    "    print(confusion_matrix(y_test, y_pred))\n",
    "    print(\"\\nClassification Report:\")\n",
    "    print(classification_report(y_test, y_pred))\n",
    "\n",
    "# Elegir el modelo con feature_importances_\n",
    "modelo = modelos[\"Random Forest\"]  # o \"Gradient Boosting\"\n",
    "\n",
    "# Obtener importancias\n",
    "importancias = modelo.feature_importances_\n",
    "features = X_train.columns\n",
    "\n",
    "# Crear DataFrame ordenado\n",
    "feat_importance = pd.DataFrame({\n",
    "    \"Feature\": features,\n",
    "    \"Importance\": importancias\n",
    "}).sort_values(by=\"Importance\", ascending=False)\n",
    "\n",
    "# Mostrar top 20\n",
    "print(feat_importance.tail(20))\n",
    "\n",
    "# Visualizar con gráfico\n",
    "plt.figure(figsize=(10,6))\n",
    "plt.barh(feat_importance[\"Feature\"].head(20)[::-1], feat_importance[\"Importance\"].head(20)[::-1])\n",
    "plt.xlabel(\"Importancia\")\n",
    "plt.title(f\"Top 20 Features - {modelo.__class__.__name__}\")\n",
    "plt.show()"
   ]
  },
  {
   "cell_type": "raw",
   "id": "b0067eaa-bfab-4f21-ae0c-65ec4c800aca",
   "metadata": {},
   "source": [
    "\n",
    "# Suponiendo que df_modelo tiene la transformación One-Hot completa\n",
    "X = df_engagement.drop(['Target_binary'], axis=1)\n",
    "y = df_engagement['Target_binary']\n",
    "\n",
    "# Dividir en train/test\n",
    "X_train, X_test, y_train, y_test = train_test_split(\n",
    "    X, y, test_size=0.2, random_state=42, stratify=y\n",
    ")\n",
    "\n",
    "# --------------------------\n",
    "# 2. Definir modelos\n",
    "# --------------------------\n",
    "modelos = {\n",
    "    \"Random Forest\": RandomForestClassifier(n_estimators=100, random_state=42),\n",
    "    \"Logistic Regression\": LogisticRegression(max_iter=1000, random_state=42),\n",
    "    \"Gradient Boosting\": GradientBoostingClassifier(n_estimators=100, random_state=42),\n",
    "    \"KNN\": KNeighborsClassifier(n_neighbors=5)\n",
    "}\n",
    "\n",
    "# --------------------------\n",
    "# 3. Entrenar y evaluar\n",
    "# --------------------------\n",
    "resultados = {}\n",
    "\n",
    "for nombre, modelo in modelos.items():\n",
    "    modelo.fit(X_train, y_train)\n",
    "    y_pred = modelo.predict(X_test)\n",
    "    \n",
    "    print(f\"\\n=== {nombre} ===\")\n",
    "    \n",
    "    # Confusion Matrix\n",
    "    cm = confusion_matrix(y_test, y_pred)\n",
    "    print(\"Confusion Matrix:\")\n",
    "    print(cm)\n",
    "    \n",
    "    # Classification report\n",
    "    print(\"\\nClassification Report:\")\n",
    "    print(classification_report(y_test, y_pred))\n",
    "    \n",
    "    # Heatmap de la matriz de confusión\n",
    "    plt.figure(figsize=(6,4))\n",
    "    sns.heatmap(cm, annot=True, fmt=\"d\", cmap=\"YlGnBu\",\n",
    "                xticklabels=y.unique(), \n",
    "                yticklabels=y.unique())\n",
    "    plt.title(f\"Confusion Matrix - {nombre}\")\n",
    "    plt.xlabel(\"Predicted\")\n",
    "    plt.ylabel(\"True\")\n",
    "    plt.show()"
   ]
  }
 ],
 "metadata": {
  "kernelspec": {
   "display_name": "Python 3 (ipykernel)",
   "language": "python",
   "name": "python3"
  },
  "language_info": {
   "codemirror_mode": {
    "name": "ipython",
    "version": 3
   },
   "file_extension": ".py",
   "mimetype": "text/x-python",
   "name": "python",
   "nbconvert_exporter": "python",
   "pygments_lexer": "ipython3",
   "version": "3.11.11"
  }
 },
 "nbformat": 4,
 "nbformat_minor": 5
}
